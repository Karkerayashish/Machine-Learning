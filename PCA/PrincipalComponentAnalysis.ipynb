{
  "nbformat": 4,
  "nbformat_minor": 0,
  "metadata": {
    "colab": {
      "name": "PrincipalComponentAnalysis_(1).ipynb",
      "provenance": [],
      "collapsed_sections": [
        "8nXtP9f2W5_b",
        "KQKlysTrW5_s",
        "dN9Zx5KMW5_1",
        "EZpB6KMuW5__",
        "b84JtOmcW6Ac",
        "e3EyzKPuW6Ec"
      ]
    },
    "kernelspec": {
      "display_name": "Python 3",
      "language": "python",
      "name": "python3"
    },
    "language_info": {
      "codemirror_mode": {
        "name": "ipython",
        "version": 3
      },
      "file_extension": ".py",
      "mimetype": "text/x-python",
      "name": "python",
      "nbconvert_exporter": "python",
      "pygments_lexer": "ipython3",
      "version": "3.7.0"
    }
  },
  "cells": [
    {
      "cell_type": "markdown",
      "metadata": {
        "colab_type": "text",
        "id": "f5h5s6gTW579"
      },
      "source": [
        "<h1> <center> DIMENSIONALITY REDUCTION USING PCA</h1>"
      ]
    },
    {
      "cell_type": "markdown",
      "metadata": {
        "colab_type": "text",
        "id": "Q1Wa_t1LW58B"
      },
      "source": [
        "## Table of Content\n",
        "\n",
        "1. [Introduction to Principal Component Analysis](#section1)<br>\n",
        "    - 1.1 [What is Data dimensionality?](#section101)<br>\n",
        "    - 1.2 [What is high dimensionality?](#section102)<br>\n",
        "    - 1.3 [Motivation](#section103)<br>\n",
        "    - 1.4 [Principal Component Analysis](#section104)<br>\n",
        "        - 1.4.1 [PCA is nothing but Coordinate System Transformation](#section105)<br>\n",
        "        - 1.4.2 [PCA has limitations: Examples of failure](#section106)<br>\n",
        "        - 1.4.3 [PCA as a whole](#section107)<br>\n",
        "        - 1.4.4 [PCA explained through animation](#section108)<br>\n",
        "2. [Problem Statement](#section2)<br>\n",
        "3. [Data loading and description](#section3)<br>\n",
        "4. [Exploratory Data Analysis](#section4)<br>\n",
        "5. [Dimensionality Reduction](#section5)<br>\n",
        "6. [Modelling and Prediction](#section6)<br>\n",
        "7. [Model evaluation using metrics](#section7)<br>\n",
        "    - 7.1 [MAE score](#section701)<br>\n",
        "    - 7.2 [MSE score](#section702)<br>\n",
        "    - 7.3 [RMSE score](#section703)\n",
        "8. [Computing time difference between the two different random forest models created](#section8)![Imgur](https://i.imgur.com/AZ6spJR.png)"
      ]
    },
    {
      "cell_type": "markdown",
      "metadata": {
        "colab_type": "text",
        "id": "1zd6-sZsW58E"
      },
      "source": [
        "<a id=section1></a>"
      ]
    },
    {
      "cell_type": "markdown",
      "metadata": {
        "colab_type": "text",
        "id": "taCbogXRW58G"
      },
      "source": [
        "## 1. Introduction to Principal Component Analysis"
      ]
    },
    {
      "cell_type": "markdown",
      "metadata": {
        "colab_type": "text",
        "id": "bfnonKSVW58J"
      },
      "source": [
        "<a id=section101></a>"
      ]
    },
    {
      "cell_type": "markdown",
      "metadata": {
        "colab_type": "text",
        "id": "FkCbDx3OW58L"
      },
      "source": [
        "### 1.1 What is Data Dimensionality?"
      ]
    },
    {
      "cell_type": "markdown",
      "metadata": {
        "colab_type": "text",
        "id": "rX3X-3OcW58N"
      },
      "source": [
        "In real world, __number of columns__ is the number of __dimensions of data__.However, some columns are __similar__, some are __correlated__, some are __duplicates__ in some way, some are __junk__, some are __useless__, etc. so the actual number of dimensions can be unknown. Its a knotty problem."
      ]
    },
    {
      "cell_type": "markdown",
      "metadata": {
        "colab_type": "text",
        "id": "-MQ6SksjW58P"
      },
      "source": [
        "<a id=section102></a>"
      ]
    },
    {
      "cell_type": "markdown",
      "metadata": {
        "colab_type": "text",
        "id": "xD2_Aod2W58Q"
      },
      "source": [
        "### 1.2 What is high dimensionality?"
      ]
    },
    {
      "cell_type": "markdown",
      "metadata": {
        "colab_type": "text",
        "id": "X33fPaAnW58U"
      },
      "source": [
        "Suppose we have __500 variables__ in a data set. As it a very huge number, so it is quite difficult to read and understand the data. This is known as high dimensionality.\n",
        "Anything which __can't be read and understood without any use of external resources__ is an example of high dimensionality.\n",
        "\n",
        "#### Lost in high dimensional space: ![Imgur](https://i.imgur.com/zPXvzBY.jpg)"
      ]
    },
    {
      "cell_type": "markdown",
      "metadata": {
        "colab_type": "text",
        "id": "HYm_S9AGW58Y"
      },
      "source": [
        "<a id=section103></a>"
      ]
    },
    {
      "cell_type": "markdown",
      "metadata": {
        "colab_type": "text",
        "id": "ajRA6DyGW58b"
      },
      "source": [
        "### 1.3 MOTIVATION"
      ]
    },
    {
      "cell_type": "markdown",
      "metadata": {
        "colab_type": "text",
        "id": "3I-1G_fDW58e"
      },
      "source": [
        "When dealing with real problems and real data we often deal with __high dimensional__ data that can go up to __millions__.\n",
        "- Sometime we might need to deal with data having large number of columns/variables, so we need to __reduce its dimensionality__.\n",
        "- The need to reduce dimensionality is often __associated with visualizations__ (reducing to 2–3 dimensions so we can plot it) but _that is not always the case_.\n",
        "- Sometimes we might value __performance over precision__ so we could reduce _1,000 dimensional data to 10 dimensions so we can manipulate it faster_ (eg. calculate distances).\n",
        "- Find essential __attributes/variables__.\n",
        "\n",
        "The need to reduce dimensionality at times is __real and has many applications__.\n",
        "For the same, there are __various techinques__.<br/>\n",
        "This sheet is entirely focused on __PCA(Principal Component Analysis)__![Imgur](https://i.imgur.com/XF6Quuj.png)"
      ]
    },
    {
      "cell_type": "markdown",
      "metadata": {
        "colab_type": "text",
        "id": "aACOLL6QW58f"
      },
      "source": [
        "The picture above explains a simple dimension reduction in which a __3-D__ figure is compressed to a __2-D__ figure.\n",
        "This helps in better __visualisation__ and better __understanding__ of data points."
      ]
    },
    {
      "cell_type": "markdown",
      "metadata": {
        "colab_type": "text",
        "id": "SHIm8MzWW58h"
      },
      "source": [
        "<a id=section104></a>"
      ]
    },
    {
      "cell_type": "markdown",
      "metadata": {
        "colab_type": "text",
        "id": "BRk9GWH2W58l"
      },
      "source": [
        "### 1.4 PRINCIPAL COMPONENT ANALYSIS"
      ]
    },
    {
      "cell_type": "markdown",
      "metadata": {
        "colab_type": "text",
        "id": "cMAEuZQ8W58n"
      },
      "source": [
        "> _Too many variables? Should you be using all possible variables to generate model?_\n",
        "\n",
        "In order to handle __'curse of dimensionality'__ and avoid issues like __over-fitting__ in high dimensional space, methods like __Principal Component analysis__ is used.\n",
        "\n",
        "PCA is a method used for __compressing__ a lot of data into something that captures the __essence__ of the _original data_.\n",
        "- It reduces the dimension of your data with the __aim of retaining__ as _much information as possible_. \n",
        "- Calculated efficiently with computer programs\n",
        "- This method combines __highly correlated variables__ together to form a smaller number of an artificial set of variables.<br/>   \n",
        "- These artificial set of variables are called __'principal components'__ that account for __most variance__ in the data.\n",
        "- For much detailed and basic explanation _click on the __video__ just below_:"
      ]
    },
    {
      "cell_type": "markdown",
      "metadata": {
        "colab_type": "text",
        "id": "RNlJ6_LPW58q"
      },
      "source": [
        "<a href=\"http://www.youtube.com/watch?feature=player_embedded&v=BfTMmoDFXyE\n",
        "\" target=\"_blank\"><img src=\"http://img.youtube.com/vi/BfTMmoDFXyE/0.jpg\" \n",
        "alt=\"A layman's introduction to principal component analysis\" width=\"240\" height=\"180\" border=\"10\" /></a>\n"
      ]
    },
    {
      "cell_type": "markdown",
      "metadata": {
        "colab_type": "text",
        "id": "C-I0dl7LW58t"
      },
      "source": [
        "This image below is an example for __visualization__, as how _different dimensions are arranged_.\n",
        "As the __dimensionality increase__, the __complexity in visualization increases__.\n",
        "In the image below, we can see that in \n",
        "- _1 dimension we have 10 positions which is easy to read and understand_.\n",
        "- _2 dimensions is having 100 positions, it is still good_.\n",
        "- _3 dimensions is having 1000 posiitons, it is now a bit difficult to read, as we have to check through 3 corners to understand the data well_.\n",
        "\n",
        "__Note__ : Though we can go for __N-Dimensions__ (N=1,2,3,.....,1000,....,N), but __4-D and above__ cannot be drawn on a piece of paper as 1-D, 2-D and 3-D."
      ]
    },
    {
      "cell_type": "markdown",
      "metadata": {
        "colab_type": "text",
        "id": "5SlOXANiW58w"
      },
      "source": [
        "![Imgur](https://i.imgur.com/G4RkZPT.png)"
      ]
    },
    {
      "cell_type": "markdown",
      "metadata": {
        "colab_type": "text",
        "id": "U3r8vnc4W58z"
      },
      "source": [
        "<a id=section105></a>"
      ]
    },
    {
      "cell_type": "markdown",
      "metadata": {
        "colab_type": "text",
        "id": "pUnCItO7W582"
      },
      "source": [
        "### 1.4.1 PCA IS NOTHING BUT COORDINATE SYSTEM TRANSFORMATION."
      ]
    },
    {
      "cell_type": "markdown",
      "metadata": {
        "colab_type": "text",
        "id": "SAMyQwb5W587"
      },
      "source": [
        "The output model uses three axes:<br/> L (Length), W (Width) and H (Height) that perpendicular to each other to represent the 3-D world. So each data point on that object can be written as a function of three variables:\n",
        "\n",
        "    Data(i) = f(L(i), W(i), H(i))         [function 1]\n",
        "\n",
        "In the new coordinate system, each data point on that ellipse can be re-written as a function of two variables:\n",
        "\n",
        "    Data(j) = g(C1(j), C2(j))             [function 2]\n",
        "\n",
        "\n",
        "- Fewer variables (or lower dimensions of variables) of function 2 compared to function 1.\n",
        "        (L, W, H) --> (C1, C2)\n",
        "- No information lost.\n",
        "        function 1 == function 2\n",
        "        The relative geometric positions of all data points remain unchanged.\n",
        "\n"
      ]
    },
    {
      "cell_type": "markdown",
      "metadata": {
        "colab_type": "text",
        "id": "FSlNIGvGW58_"
      },
      "source": [
        "![Imgur](https://i.imgur.com/k0rvKf1.png)"
      ]
    },
    {
      "cell_type": "markdown",
      "metadata": {
        "colab_type": "text",
        "id": "kc0ekX_iW59H"
      },
      "source": [
        "<a id=section106></a>"
      ]
    },
    {
      "cell_type": "markdown",
      "metadata": {
        "colab_type": "text",
        "id": "8RjmC7bAW59J"
      },
      "source": [
        "### 1.4.2 PCA has limitations : example of failures"
      ]
    },
    {
      "cell_type": "markdown",
      "metadata": {
        "colab_type": "text",
        "id": "MGL-oCrEW59M"
      },
      "source": [
        "Any algorithm could __fail__ when its __assumption is not satisfied__. \n",
        "- PCA makes the __\"largest variance\"__ assumptions.\n",
        "- If the data does not follow a multidimensional normal distribution\n",
        "- PCA may not give the best principal components."
      ]
    },
    {
      "cell_type": "markdown",
      "metadata": {
        "colab_type": "text",
        "id": "lZ7GU4BuW59P"
      },
      "source": [
        "![Imgur](https://i.imgur.com/8RS7F6E.png)"
      ]
    },
    {
      "cell_type": "markdown",
      "metadata": {
        "colab_type": "text",
        "id": "SPKZRrrQW59S"
      },
      "source": [
        "<a id=section107></a>"
      ]
    },
    {
      "cell_type": "markdown",
      "metadata": {
        "colab_type": "text",
        "id": "gpu_uB7VW59W"
      },
      "source": [
        "### 1.4.3 PCA as a whole"
      ]
    },
    {
      "cell_type": "markdown",
      "metadata": {
        "colab_type": "text",
        "id": "baPjpJ3fW59a"
      },
      "source": [
        "![Imgur](https://i.imgur.com/LN5YZVm.png)"
      ]
    },
    {
      "cell_type": "markdown",
      "metadata": {
        "colab_type": "text",
        "id": "qk3jfZLEW59d"
      },
      "source": [
        "<a id=section108></a>"
      ]
    },
    {
      "cell_type": "markdown",
      "metadata": {
        "colab_type": "text",
        "id": "nbytbAQEW59f"
      },
      "source": [
        "### 1.4.4 PCA explanation through animation"
      ]
    },
    {
      "cell_type": "markdown",
      "metadata": {
        "colab_type": "text",
        "id": "NckbaMp2W59i"
      },
      "source": [
        "PCA will find the __\"best\"__ line according to __two different criteria__ of what is the \"best\".\n",
        "- First, the variation of values along the line should be __maximal__. \n",
        "    - Pay attention to how the __\"spread\" (variance)__ of the _red dots_ changes while the line rotates.\n",
        "    - __can you see when it _reaches maximum_?__ \n",
        "- Second, if we __reconstruct__ the original two characteristics (__position of a blue dot__) from the new one (__position of a red dot__), the __reconstruction error__ will be given by the _length of the connecting red line_.\n",
        "- Observe how the length of these red lines changes while the line rotates.\n",
        "    - __Can you see when the total length _reaches minimum_?__\n",
        "\n",
        "If you stare at this animation for some time,\n",
        "- You will notice that __\"the maximum variance\"__ and __\"the minimum error\"__ are reached at the __same time__, namely when the line points to the magenta ticks I marked on both sides of the data cloud. \n",
        "    - This line corresponds to the _new data property that will be constructed by PCA_."
      ]
    },
    {
      "cell_type": "markdown",
      "metadata": {
        "colab_type": "text",
        "id": "8rKbqEcEW59j"
      },
      "source": [
        "![image.png](https://raw.githubusercontent.com/insaid2018/Term-3/master/Images/Q7HIP.gif)"
      ]
    },
    {
      "cell_type": "markdown",
      "metadata": {
        "colab_type": "text",
        "id": "aeGFSLO_W59l"
      },
      "source": [
        "### Conclusion\n",
        "\n",
        "Thus PCA is a method that brings together:\n",
        "1. A measure of how each variable is associated with one another. (Covariance matrix.)\n",
        "2. The directions in which our data are dispersed. (Eigenvectors.)\n",
        "3. The relative importance of these different directions. (Eigenvalues.)\n",
        "\n",
        "__PCA combines our predictors and allows us to drop the eigenvectors that are relatively unimportant__."
      ]
    },
    {
      "cell_type": "markdown",
      "metadata": {
        "id": "gxM0gPF0v9Yb",
        "colab_type": "text"
      },
      "source": [
        "### Covariance Matrix"
      ]
    },
    {
      "cell_type": "markdown",
      "metadata": {
        "id": "Pvea1-SUv9Yc",
        "colab_type": "text"
      },
      "source": [
        "- A square matrix of numbers that describe the **variance of the data, and the covariance among variables** is called covariance matrix. \n",
        "- It is an **empirical description** of data we observe.\n",
        "\n",
        "- For a 2 x 2 matrix, a covariance matrix might look like this:\n",
        "![Imgur](https://i.imgur.com/4rUDI9N.jpg)\n",
        "\n",
        "- The numbers on the upper left and lower right represent the **variance of the x and y** variables.\n",
        "- While the identical numbers on the lower left and upper right represent the **covariance between x and y**.\n"
      ]
    },
    {
      "cell_type": "markdown",
      "metadata": {
        "id": "m3C-TUuuv9Yd",
        "colab_type": "text"
      },
      "source": [
        "#### Graphical Representation:\n",
        "- If two variables **increase and decrease together** (a line going up and to the right), they have a **positive covariance**.\n",
        "- If one **decreases while the other increases**, they have a **negative covariance** (a line going down and to the right).\n",
        "![Imgur](https://i.imgur.com/Suk3cPw.png)"
      ]
    },
    {
      "cell_type": "markdown",
      "metadata": {
        "id": "9cBt9Oq1v9Yi",
        "colab_type": "text"
      },
      "source": [
        "### Let us understand the concept of Eigenvectors and Eigenvalues"
      ]
    },
    {
      "cell_type": "markdown",
      "metadata": {
        "id": "wpqhZ0jcv9Yj",
        "colab_type": "text"
      },
      "source": [
        "![Imgur](https://i.imgur.com/0Aj8Ghr.jpg)"
      ]
    },
    {
      "cell_type": "markdown",
      "metadata": {
        "id": "GQxL1s0cv9Yk",
        "colab_type": "text"
      },
      "source": [
        "- An **Eigen vector** is a vector whose direction remains unchanged when a linear transformation is applied to it. \n",
        "- The submission of squared distances from origin of all data points is called **Eigen Value**.\n",
        "- The eigenvector with the highest eigenvalue is therefore the **principal component**.\n"
      ]
    },
    {
      "cell_type": "markdown",
      "metadata": {
        "colab_type": "text",
        "id": "G0yeQkFcW59m"
      },
      "source": [
        "<a id=section2></a>"
      ]
    },
    {
      "cell_type": "markdown",
      "metadata": {
        "colab_type": "text",
        "id": "o_TzzXVoW59n"
      },
      "source": [
        "## 2. Problem Statement ![Imgur](https://i.imgur.com/B83d0p3.png)"
      ]
    },
    {
      "cell_type": "markdown",
      "metadata": {
        "colab_type": "text",
        "id": "wrGb14FiW59o"
      },
      "source": [
        "According to Epsilon research, __80% of customers are more likely to do business with you if you provide personalized__ service. __Banking__ is no exception.\n",
        "\n",
        "The __digitalization__ of everyday lives means that customers expect services to be delivered in a personalized and timely manner and often before they´ve even realized they need the service. __Santander Group__ aims to go a step beyond recognizing that there is a __need to provide a customer a financial service__ and intends to determine the amount or value of the customer's transaction. This means __anticipating customer needs in a more concrete, but also simple and personal way__. With so many choices for financial services, this need is greater now than ever before.\n",
        "\n",
        "Santander Group is asking to help them __identify the value of transactions for each potential customer__. This is a first step that Santander needs to nail in order to personalize their services at scale.\n",
        "\n",
        "\n",
        "You are provided with an __anonymized dataset__ containing _numeric feature variables_, the numeric __target__ column, and a string ID column.\n",
        "\n",
        "The task is to __predict the value of target column in the test set__.<br>\n",
        "The __train__ dataset contains __4459 observations__ and __4993 columns__."
      ]
    },
    {
      "cell_type": "markdown",
      "metadata": {
        "colab_type": "text",
        "id": "Tykr4Oj5W59p"
      },
      "source": [
        "<a id=section3></a>"
      ]
    },
    {
      "cell_type": "markdown",
      "metadata": {
        "colab_type": "text",
        "id": "lm__hRNmW59r"
      },
      "source": [
        "## 3. Data loading and description"
      ]
    },
    {
      "cell_type": "markdown",
      "metadata": {
        "colab_type": "text",
        "id": "AcPijDFJW59s"
      },
      "source": [
        "### Import the data"
      ]
    },
    {
      "cell_type": "code",
      "metadata": {
        "_cell_guid": "b1076dfc-b9ad-4769-8c92-a6c4dae69d19",
        "_uuid": "8f2839f25d086af736a60e9eeb907d3b93b6e0e5",
        "colab_type": "code",
        "id": "QtuNHG_SW59v",
        "colab": {
          "base_uri": "https://localhost:8080/",
          "height": 71
        },
        "outputId": "0052ec44-36f2-458e-aad9-ba452e8735f6"
      },
      "source": [
        "import sklearn\n",
        "import numpy as np\n",
        "import pandas as pd\n",
        "import matplotlib.pyplot as plt\n",
        "%matplotlib inline\n",
        "import seaborn as sns\n",
        "from collections import Counter"
      ],
      "execution_count": 1,
      "outputs": [
        {
          "output_type": "stream",
          "text": [
            "/usr/local/lib/python3.6/dist-packages/statsmodels/tools/_testing.py:19: FutureWarning: pandas.util.testing is deprecated. Use the functions in the public API at pandas.testing instead.\n",
            "  import pandas.util.testing as tm\n"
          ],
          "name": "stderr"
        }
      ]
    },
    {
      "cell_type": "markdown",
      "metadata": {
        "colab_type": "text",
        "id": "slA3sFsyW593"
      },
      "source": [
        "### Import the dataset"
      ]
    },
    {
      "cell_type": "markdown",
      "metadata": {
        "colab_type": "text",
        "id": "fFQJBANIW5-E"
      },
      "source": [
        "### Check the shape of the dataset"
      ]
    },
    {
      "cell_type": "code",
      "metadata": {
        "_uuid": "25a462be61022a1c248ed7f5eef60a4c0e24216b",
        "colab_type": "code",
        "id": "CLGBKW0oW596",
        "outputId": "8ac211e9-abe0-4aba-9cf7-428c8880a563",
        "colab": {
          "base_uri": "https://localhost:8080/",
          "height": 253
        }
      },
      "source": [
        "value = pd.read_csv(\"https://raw.githubusercontent.com/insaid2018/pca-file/master/train.csv\")\n",
        "value.head()"
      ],
      "execution_count": 2,
      "outputs": [
        {
          "output_type": "execute_result",
          "data": {
            "text/html": [
              "<div>\n",
              "<style scoped>\n",
              "    .dataframe tbody tr th:only-of-type {\n",
              "        vertical-align: middle;\n",
              "    }\n",
              "\n",
              "    .dataframe tbody tr th {\n",
              "        vertical-align: top;\n",
              "    }\n",
              "\n",
              "    .dataframe thead th {\n",
              "        text-align: right;\n",
              "    }\n",
              "</style>\n",
              "<table border=\"1\" class=\"dataframe\">\n",
              "  <thead>\n",
              "    <tr style=\"text-align: right;\">\n",
              "      <th></th>\n",
              "      <th>ID</th>\n",
              "      <th>target</th>\n",
              "      <th>48df886f9</th>\n",
              "      <th>0deb4b6a8</th>\n",
              "      <th>34b15f335</th>\n",
              "      <th>a8cb14b00</th>\n",
              "      <th>2f0771a37</th>\n",
              "      <th>30347e683</th>\n",
              "      <th>d08d1fbe3</th>\n",
              "      <th>6ee66e115</th>\n",
              "      <th>20aa07010</th>\n",
              "      <th>dc5a8f1d8</th>\n",
              "      <th>11d86fa6a</th>\n",
              "      <th>77c9823f2</th>\n",
              "      <th>8d6c2a0b2</th>\n",
              "      <th>4681de4fd</th>\n",
              "      <th>adf119b9a</th>\n",
              "      <th>cff75dd09</th>\n",
              "      <th>96f83a237</th>\n",
              "      <th>b8a716ebf</th>\n",
              "      <th>6c7a4567c</th>\n",
              "      <th>4fcfd2b4d</th>\n",
              "      <th>f3b9c0b95</th>\n",
              "      <th>71cebf11c</th>\n",
              "      <th>d966ac62c</th>\n",
              "      <th>68b647452</th>\n",
              "      <th>c88d108c9</th>\n",
              "      <th>ff7b471cd</th>\n",
              "      <th>d5308d8bc</th>\n",
              "      <th>0d866c3d7</th>\n",
              "      <th>bc3f77679</th>\n",
              "      <th>bd8f989f1</th>\n",
              "      <th>0eff5bf95</th>\n",
              "      <th>22ed6dba3</th>\n",
              "      <th>92b13ebba</th>\n",
              "      <th>c330f1a67</th>\n",
              "      <th>233c7c17c</th>\n",
              "      <th>2cb4d123e</th>\n",
              "      <th>eeac16933</th>\n",
              "      <th>87ffda550</th>\n",
              "      <th>...</th>\n",
              "      <th>969caa87a</th>\n",
              "      <th>00302fe51</th>\n",
              "      <th>1189ee335</th>\n",
              "      <th>ca04a07ca</th>\n",
              "      <th>f6f15ffa5</th>\n",
              "      <th>841704460</th>\n",
              "      <th>ea5ed6ff7</th>\n",
              "      <th>b1bb8eac3</th>\n",
              "      <th>8132d18b8</th>\n",
              "      <th>c24ea6548</th>\n",
              "      <th>cdfc2b069</th>\n",
              "      <th>2a879b4f7</th>\n",
              "      <th>6b119d8ce</th>\n",
              "      <th>98dea9e42</th>\n",
              "      <th>9f2471031</th>\n",
              "      <th>88458cb21</th>\n",
              "      <th>f40da20f4</th>\n",
              "      <th>7ad6b38bd</th>\n",
              "      <th>c901e7df1</th>\n",
              "      <th>8f55955dc</th>\n",
              "      <th>85dcc913d</th>\n",
              "      <th>5ca0b9b0c</th>\n",
              "      <th>eab8abf7a</th>\n",
              "      <th>8d8bffbae</th>\n",
              "      <th>2a1f6c7f9</th>\n",
              "      <th>9437d8b64</th>\n",
              "      <th>5831f4c76</th>\n",
              "      <th>2e84e09c5</th>\n",
              "      <th>d45fd5508</th>\n",
              "      <th>a165f5761</th>\n",
              "      <th>3ecc09859</th>\n",
              "      <th>9281abeea</th>\n",
              "      <th>8675bec0b</th>\n",
              "      <th>3a13ed79a</th>\n",
              "      <th>f677d4d13</th>\n",
              "      <th>71b203550</th>\n",
              "      <th>137efaa80</th>\n",
              "      <th>fb36b89d9</th>\n",
              "      <th>7e293fbaf</th>\n",
              "      <th>9fc776466</th>\n",
              "    </tr>\n",
              "  </thead>\n",
              "  <tbody>\n",
              "    <tr>\n",
              "      <th>0</th>\n",
              "      <td>000d6aaf2</td>\n",
              "      <td>38000000.0</td>\n",
              "      <td>0.0</td>\n",
              "      <td>0</td>\n",
              "      <td>0.0</td>\n",
              "      <td>0</td>\n",
              "      <td>0</td>\n",
              "      <td>0</td>\n",
              "      <td>0</td>\n",
              "      <td>0</td>\n",
              "      <td>0.0</td>\n",
              "      <td>0.0</td>\n",
              "      <td>0.0</td>\n",
              "      <td>0</td>\n",
              "      <td>0</td>\n",
              "      <td>0</td>\n",
              "      <td>0</td>\n",
              "      <td>0.0</td>\n",
              "      <td>0</td>\n",
              "      <td>0.0</td>\n",
              "      <td>0</td>\n",
              "      <td>0</td>\n",
              "      <td>0.0</td>\n",
              "      <td>0</td>\n",
              "      <td>0</td>\n",
              "      <td>0.0</td>\n",
              "      <td>0</td>\n",
              "      <td>0</td>\n",
              "      <td>0</td>\n",
              "      <td>0.0</td>\n",
              "      <td>0</td>\n",
              "      <td>0.0</td>\n",
              "      <td>0</td>\n",
              "      <td>0.0</td>\n",
              "      <td>0.0</td>\n",
              "      <td>0</td>\n",
              "      <td>0.0</td>\n",
              "      <td>0</td>\n",
              "      <td>0</td>\n",
              "      <td>1300000.0</td>\n",
              "      <td>...</td>\n",
              "      <td>0</td>\n",
              "      <td>0</td>\n",
              "      <td>1100000.0</td>\n",
              "      <td>0</td>\n",
              "      <td>0</td>\n",
              "      <td>0</td>\n",
              "      <td>0.0</td>\n",
              "      <td>0.0</td>\n",
              "      <td>14800000</td>\n",
              "      <td>0.0</td>\n",
              "      <td>1200000.0</td>\n",
              "      <td>0.0</td>\n",
              "      <td>0.0</td>\n",
              "      <td>0</td>\n",
              "      <td>0</td>\n",
              "      <td>0</td>\n",
              "      <td>0</td>\n",
              "      <td>0.0</td>\n",
              "      <td>4000000</td>\n",
              "      <td>0</td>\n",
              "      <td>0.0</td>\n",
              "      <td>0</td>\n",
              "      <td>0</td>\n",
              "      <td>0.0</td>\n",
              "      <td>0</td>\n",
              "      <td>0</td>\n",
              "      <td>0.0</td>\n",
              "      <td>0</td>\n",
              "      <td>0</td>\n",
              "      <td>0.0</td>\n",
              "      <td>0.0</td>\n",
              "      <td>0.0</td>\n",
              "      <td>0.0</td>\n",
              "      <td>0</td>\n",
              "      <td>0</td>\n",
              "      <td>0</td>\n",
              "      <td>0</td>\n",
              "      <td>0</td>\n",
              "      <td>0</td>\n",
              "      <td>0</td>\n",
              "    </tr>\n",
              "    <tr>\n",
              "      <th>1</th>\n",
              "      <td>000fbd867</td>\n",
              "      <td>600000.0</td>\n",
              "      <td>0.0</td>\n",
              "      <td>0</td>\n",
              "      <td>0.0</td>\n",
              "      <td>0</td>\n",
              "      <td>0</td>\n",
              "      <td>0</td>\n",
              "      <td>0</td>\n",
              "      <td>0</td>\n",
              "      <td>2200000.0</td>\n",
              "      <td>0.0</td>\n",
              "      <td>0.0</td>\n",
              "      <td>0</td>\n",
              "      <td>0</td>\n",
              "      <td>0</td>\n",
              "      <td>0</td>\n",
              "      <td>0.0</td>\n",
              "      <td>0</td>\n",
              "      <td>0.0</td>\n",
              "      <td>0</td>\n",
              "      <td>0</td>\n",
              "      <td>0.0</td>\n",
              "      <td>0</td>\n",
              "      <td>0</td>\n",
              "      <td>0.0</td>\n",
              "      <td>0</td>\n",
              "      <td>0</td>\n",
              "      <td>0</td>\n",
              "      <td>0.0</td>\n",
              "      <td>0</td>\n",
              "      <td>0.0</td>\n",
              "      <td>0</td>\n",
              "      <td>0.0</td>\n",
              "      <td>0.0</td>\n",
              "      <td>0</td>\n",
              "      <td>0.0</td>\n",
              "      <td>0</td>\n",
              "      <td>0</td>\n",
              "      <td>0.0</td>\n",
              "      <td>...</td>\n",
              "      <td>0</td>\n",
              "      <td>0</td>\n",
              "      <td>0.0</td>\n",
              "      <td>0</td>\n",
              "      <td>0</td>\n",
              "      <td>0</td>\n",
              "      <td>0.0</td>\n",
              "      <td>0.0</td>\n",
              "      <td>0</td>\n",
              "      <td>0.0</td>\n",
              "      <td>0.0</td>\n",
              "      <td>0.0</td>\n",
              "      <td>0.0</td>\n",
              "      <td>0</td>\n",
              "      <td>0</td>\n",
              "      <td>0</td>\n",
              "      <td>0</td>\n",
              "      <td>0.0</td>\n",
              "      <td>0</td>\n",
              "      <td>0</td>\n",
              "      <td>0.0</td>\n",
              "      <td>0</td>\n",
              "      <td>0</td>\n",
              "      <td>0.0</td>\n",
              "      <td>0</td>\n",
              "      <td>0</td>\n",
              "      <td>0.0</td>\n",
              "      <td>0</td>\n",
              "      <td>0</td>\n",
              "      <td>0.0</td>\n",
              "      <td>0.0</td>\n",
              "      <td>0.0</td>\n",
              "      <td>0.0</td>\n",
              "      <td>0</td>\n",
              "      <td>0</td>\n",
              "      <td>0</td>\n",
              "      <td>0</td>\n",
              "      <td>0</td>\n",
              "      <td>0</td>\n",
              "      <td>0</td>\n",
              "    </tr>\n",
              "    <tr>\n",
              "      <th>2</th>\n",
              "      <td>0027d6b71</td>\n",
              "      <td>10000000.0</td>\n",
              "      <td>0.0</td>\n",
              "      <td>0</td>\n",
              "      <td>0.0</td>\n",
              "      <td>0</td>\n",
              "      <td>0</td>\n",
              "      <td>0</td>\n",
              "      <td>0</td>\n",
              "      <td>0</td>\n",
              "      <td>0.0</td>\n",
              "      <td>0.0</td>\n",
              "      <td>0.0</td>\n",
              "      <td>0</td>\n",
              "      <td>0</td>\n",
              "      <td>0</td>\n",
              "      <td>0</td>\n",
              "      <td>0.0</td>\n",
              "      <td>0</td>\n",
              "      <td>0.0</td>\n",
              "      <td>0</td>\n",
              "      <td>0</td>\n",
              "      <td>0.0</td>\n",
              "      <td>0</td>\n",
              "      <td>0</td>\n",
              "      <td>0.0</td>\n",
              "      <td>0</td>\n",
              "      <td>0</td>\n",
              "      <td>0</td>\n",
              "      <td>0.0</td>\n",
              "      <td>0</td>\n",
              "      <td>0.0</td>\n",
              "      <td>0</td>\n",
              "      <td>0.0</td>\n",
              "      <td>0.0</td>\n",
              "      <td>0</td>\n",
              "      <td>0.0</td>\n",
              "      <td>0</td>\n",
              "      <td>0</td>\n",
              "      <td>0.0</td>\n",
              "      <td>...</td>\n",
              "      <td>0</td>\n",
              "      <td>0</td>\n",
              "      <td>0.0</td>\n",
              "      <td>0</td>\n",
              "      <td>0</td>\n",
              "      <td>0</td>\n",
              "      <td>0.0</td>\n",
              "      <td>0.0</td>\n",
              "      <td>0</td>\n",
              "      <td>0.0</td>\n",
              "      <td>0.0</td>\n",
              "      <td>0.0</td>\n",
              "      <td>0.0</td>\n",
              "      <td>0</td>\n",
              "      <td>0</td>\n",
              "      <td>0</td>\n",
              "      <td>0</td>\n",
              "      <td>0.0</td>\n",
              "      <td>0</td>\n",
              "      <td>0</td>\n",
              "      <td>0.0</td>\n",
              "      <td>0</td>\n",
              "      <td>0</td>\n",
              "      <td>0.0</td>\n",
              "      <td>0</td>\n",
              "      <td>0</td>\n",
              "      <td>0.0</td>\n",
              "      <td>0</td>\n",
              "      <td>0</td>\n",
              "      <td>0.0</td>\n",
              "      <td>0.0</td>\n",
              "      <td>0.0</td>\n",
              "      <td>0.0</td>\n",
              "      <td>0</td>\n",
              "      <td>0</td>\n",
              "      <td>0</td>\n",
              "      <td>0</td>\n",
              "      <td>0</td>\n",
              "      <td>0</td>\n",
              "      <td>0</td>\n",
              "    </tr>\n",
              "    <tr>\n",
              "      <th>3</th>\n",
              "      <td>0028cbf45</td>\n",
              "      <td>2000000.0</td>\n",
              "      <td>0.0</td>\n",
              "      <td>0</td>\n",
              "      <td>0.0</td>\n",
              "      <td>0</td>\n",
              "      <td>0</td>\n",
              "      <td>0</td>\n",
              "      <td>0</td>\n",
              "      <td>0</td>\n",
              "      <td>0.0</td>\n",
              "      <td>0.0</td>\n",
              "      <td>0.0</td>\n",
              "      <td>0</td>\n",
              "      <td>0</td>\n",
              "      <td>0</td>\n",
              "      <td>0</td>\n",
              "      <td>0.0</td>\n",
              "      <td>0</td>\n",
              "      <td>0.0</td>\n",
              "      <td>0</td>\n",
              "      <td>0</td>\n",
              "      <td>0.0</td>\n",
              "      <td>0</td>\n",
              "      <td>0</td>\n",
              "      <td>0.0</td>\n",
              "      <td>0</td>\n",
              "      <td>0</td>\n",
              "      <td>0</td>\n",
              "      <td>0.0</td>\n",
              "      <td>0</td>\n",
              "      <td>0.0</td>\n",
              "      <td>0</td>\n",
              "      <td>0.0</td>\n",
              "      <td>0.0</td>\n",
              "      <td>0</td>\n",
              "      <td>0.0</td>\n",
              "      <td>0</td>\n",
              "      <td>0</td>\n",
              "      <td>0.0</td>\n",
              "      <td>...</td>\n",
              "      <td>0</td>\n",
              "      <td>0</td>\n",
              "      <td>0.0</td>\n",
              "      <td>0</td>\n",
              "      <td>0</td>\n",
              "      <td>0</td>\n",
              "      <td>0.0</td>\n",
              "      <td>0.0</td>\n",
              "      <td>0</td>\n",
              "      <td>0.0</td>\n",
              "      <td>0.0</td>\n",
              "      <td>0.0</td>\n",
              "      <td>0.0</td>\n",
              "      <td>0</td>\n",
              "      <td>0</td>\n",
              "      <td>0</td>\n",
              "      <td>0</td>\n",
              "      <td>0.0</td>\n",
              "      <td>0</td>\n",
              "      <td>0</td>\n",
              "      <td>0.0</td>\n",
              "      <td>0</td>\n",
              "      <td>0</td>\n",
              "      <td>0.0</td>\n",
              "      <td>0</td>\n",
              "      <td>0</td>\n",
              "      <td>0.0</td>\n",
              "      <td>0</td>\n",
              "      <td>0</td>\n",
              "      <td>0.0</td>\n",
              "      <td>0.0</td>\n",
              "      <td>0.0</td>\n",
              "      <td>0.0</td>\n",
              "      <td>0</td>\n",
              "      <td>0</td>\n",
              "      <td>0</td>\n",
              "      <td>0</td>\n",
              "      <td>0</td>\n",
              "      <td>0</td>\n",
              "      <td>0</td>\n",
              "    </tr>\n",
              "    <tr>\n",
              "      <th>4</th>\n",
              "      <td>002a68644</td>\n",
              "      <td>14400000.0</td>\n",
              "      <td>0.0</td>\n",
              "      <td>0</td>\n",
              "      <td>0.0</td>\n",
              "      <td>0</td>\n",
              "      <td>0</td>\n",
              "      <td>0</td>\n",
              "      <td>0</td>\n",
              "      <td>0</td>\n",
              "      <td>2000000.0</td>\n",
              "      <td>0.0</td>\n",
              "      <td>0.0</td>\n",
              "      <td>0</td>\n",
              "      <td>0</td>\n",
              "      <td>0</td>\n",
              "      <td>0</td>\n",
              "      <td>0.0</td>\n",
              "      <td>0</td>\n",
              "      <td>0.0</td>\n",
              "      <td>0</td>\n",
              "      <td>0</td>\n",
              "      <td>0.0</td>\n",
              "      <td>0</td>\n",
              "      <td>0</td>\n",
              "      <td>0.0</td>\n",
              "      <td>0</td>\n",
              "      <td>0</td>\n",
              "      <td>0</td>\n",
              "      <td>0.0</td>\n",
              "      <td>0</td>\n",
              "      <td>0.0</td>\n",
              "      <td>0</td>\n",
              "      <td>0.0</td>\n",
              "      <td>0.0</td>\n",
              "      <td>0</td>\n",
              "      <td>0.0</td>\n",
              "      <td>0</td>\n",
              "      <td>0</td>\n",
              "      <td>0.0</td>\n",
              "      <td>...</td>\n",
              "      <td>0</td>\n",
              "      <td>0</td>\n",
              "      <td>0.0</td>\n",
              "      <td>0</td>\n",
              "      <td>0</td>\n",
              "      <td>0</td>\n",
              "      <td>0.0</td>\n",
              "      <td>0.0</td>\n",
              "      <td>0</td>\n",
              "      <td>0.0</td>\n",
              "      <td>0.0</td>\n",
              "      <td>0.0</td>\n",
              "      <td>0.0</td>\n",
              "      <td>0</td>\n",
              "      <td>0</td>\n",
              "      <td>0</td>\n",
              "      <td>0</td>\n",
              "      <td>0.0</td>\n",
              "      <td>0</td>\n",
              "      <td>0</td>\n",
              "      <td>0.0</td>\n",
              "      <td>0</td>\n",
              "      <td>0</td>\n",
              "      <td>0.0</td>\n",
              "      <td>0</td>\n",
              "      <td>0</td>\n",
              "      <td>0.0</td>\n",
              "      <td>0</td>\n",
              "      <td>0</td>\n",
              "      <td>0.0</td>\n",
              "      <td>0.0</td>\n",
              "      <td>0.0</td>\n",
              "      <td>0.0</td>\n",
              "      <td>0</td>\n",
              "      <td>0</td>\n",
              "      <td>0</td>\n",
              "      <td>0</td>\n",
              "      <td>0</td>\n",
              "      <td>0</td>\n",
              "      <td>0</td>\n",
              "    </tr>\n",
              "  </tbody>\n",
              "</table>\n",
              "<p>5 rows × 4993 columns</p>\n",
              "</div>"
            ],
            "text/plain": [
              "          ID      target  48df886f9  ...  fb36b89d9  7e293fbaf  9fc776466\n",
              "0  000d6aaf2  38000000.0        0.0  ...          0          0          0\n",
              "1  000fbd867    600000.0        0.0  ...          0          0          0\n",
              "2  0027d6b71  10000000.0        0.0  ...          0          0          0\n",
              "3  0028cbf45   2000000.0        0.0  ...          0          0          0\n",
              "4  002a68644  14400000.0        0.0  ...          0          0          0\n",
              "\n",
              "[5 rows x 4993 columns]"
            ]
          },
          "metadata": {
            "tags": []
          },
          "execution_count": 2
        }
      ]
    },
    {
      "cell_type": "code",
      "metadata": {
        "_uuid": "3e7d79ee0bb75572bdb4a4c8b3b0f9149b45c6c0",
        "colab_type": "code",
        "id": "B5M7kprQW5-G",
        "outputId": "863a6278-ed4e-480a-ec85-480fb7cd3852",
        "colab": {
          "base_uri": "https://localhost:8080/",
          "height": 34
        }
      },
      "source": [
        "value.shape"
      ],
      "execution_count": 3,
      "outputs": [
        {
          "output_type": "execute_result",
          "data": {
            "text/plain": [
              "(4459, 4993)"
            ]
          },
          "metadata": {
            "tags": []
          },
          "execution_count": 3
        }
      ]
    },
    {
      "cell_type": "markdown",
      "metadata": {
        "colab_type": "text",
        "id": "tmghochlW5-P"
      },
      "source": [
        "### Check the columns present in the dataset"
      ]
    },
    {
      "cell_type": "code",
      "metadata": {
        "_uuid": "ebd70b64f871110a4ea61e55457561fca81744b4",
        "colab_type": "code",
        "id": "7Z84RPZnW5-R",
        "outputId": "81b4cd1b-9717-419a-9b0f-5cff58051814",
        "colab": {
          "base_uri": "https://localhost:8080/",
          "height": 119
        }
      },
      "source": [
        "value.columns"
      ],
      "execution_count": 4,
      "outputs": [
        {
          "output_type": "execute_result",
          "data": {
            "text/plain": [
              "Index(['ID', 'target', '48df886f9', '0deb4b6a8', '34b15f335', 'a8cb14b00',\n",
              "       '2f0771a37', '30347e683', 'd08d1fbe3', '6ee66e115',\n",
              "       ...\n",
              "       '3ecc09859', '9281abeea', '8675bec0b', '3a13ed79a', 'f677d4d13',\n",
              "       '71b203550', '137efaa80', 'fb36b89d9', '7e293fbaf', '9fc776466'],\n",
              "      dtype='object', length=4993)"
            ]
          },
          "metadata": {
            "tags": []
          },
          "execution_count": 4
        }
      ]
    },
    {
      "cell_type": "markdown",
      "metadata": {
        "_uuid": "e70f45af93614476e09d4863b59f082357a6fece",
        "colab_type": "text",
        "id": "85xhaNtjW5-f"
      },
      "source": [
        "Initial test and value data exploration"
      ]
    },
    {
      "cell_type": "markdown",
      "metadata": {
        "colab_type": "text",
        "id": "oSV-kuHSW5-g"
      },
      "source": [
        "### Check for the descriptive statistics"
      ]
    },
    {
      "cell_type": "code",
      "metadata": {
        "_uuid": "61a59720e80bb211d393f2f39e5fcf878f90ee75",
        "colab_type": "code",
        "id": "u8ihQkGYW5-i",
        "outputId": "5ff6f217-98d8-465d-8d06-73f33c00bf2b",
        "scrolled": true,
        "colab": {
          "base_uri": "https://localhost:8080/",
          "height": 346
        }
      },
      "source": [
        "value.describe()"
      ],
      "execution_count": 5,
      "outputs": [
        {
          "output_type": "execute_result",
          "data": {
            "text/html": [
              "<div>\n",
              "<style scoped>\n",
              "    .dataframe tbody tr th:only-of-type {\n",
              "        vertical-align: middle;\n",
              "    }\n",
              "\n",
              "    .dataframe tbody tr th {\n",
              "        vertical-align: top;\n",
              "    }\n",
              "\n",
              "    .dataframe thead th {\n",
              "        text-align: right;\n",
              "    }\n",
              "</style>\n",
              "<table border=\"1\" class=\"dataframe\">\n",
              "  <thead>\n",
              "    <tr style=\"text-align: right;\">\n",
              "      <th></th>\n",
              "      <th>target</th>\n",
              "      <th>48df886f9</th>\n",
              "      <th>0deb4b6a8</th>\n",
              "      <th>34b15f335</th>\n",
              "      <th>a8cb14b00</th>\n",
              "      <th>2f0771a37</th>\n",
              "      <th>30347e683</th>\n",
              "      <th>d08d1fbe3</th>\n",
              "      <th>6ee66e115</th>\n",
              "      <th>20aa07010</th>\n",
              "      <th>dc5a8f1d8</th>\n",
              "      <th>11d86fa6a</th>\n",
              "      <th>77c9823f2</th>\n",
              "      <th>8d6c2a0b2</th>\n",
              "      <th>4681de4fd</th>\n",
              "      <th>adf119b9a</th>\n",
              "      <th>cff75dd09</th>\n",
              "      <th>96f83a237</th>\n",
              "      <th>b8a716ebf</th>\n",
              "      <th>6c7a4567c</th>\n",
              "      <th>4fcfd2b4d</th>\n",
              "      <th>f3b9c0b95</th>\n",
              "      <th>71cebf11c</th>\n",
              "      <th>d966ac62c</th>\n",
              "      <th>68b647452</th>\n",
              "      <th>c88d108c9</th>\n",
              "      <th>ff7b471cd</th>\n",
              "      <th>d5308d8bc</th>\n",
              "      <th>0d866c3d7</th>\n",
              "      <th>bc3f77679</th>\n",
              "      <th>bd8f989f1</th>\n",
              "      <th>0eff5bf95</th>\n",
              "      <th>22ed6dba3</th>\n",
              "      <th>92b13ebba</th>\n",
              "      <th>c330f1a67</th>\n",
              "      <th>233c7c17c</th>\n",
              "      <th>2cb4d123e</th>\n",
              "      <th>eeac16933</th>\n",
              "      <th>87ffda550</th>\n",
              "      <th>822e49b95</th>\n",
              "      <th>...</th>\n",
              "      <th>969caa87a</th>\n",
              "      <th>00302fe51</th>\n",
              "      <th>1189ee335</th>\n",
              "      <th>ca04a07ca</th>\n",
              "      <th>f6f15ffa5</th>\n",
              "      <th>841704460</th>\n",
              "      <th>ea5ed6ff7</th>\n",
              "      <th>b1bb8eac3</th>\n",
              "      <th>8132d18b8</th>\n",
              "      <th>c24ea6548</th>\n",
              "      <th>cdfc2b069</th>\n",
              "      <th>2a879b4f7</th>\n",
              "      <th>6b119d8ce</th>\n",
              "      <th>98dea9e42</th>\n",
              "      <th>9f2471031</th>\n",
              "      <th>88458cb21</th>\n",
              "      <th>f40da20f4</th>\n",
              "      <th>7ad6b38bd</th>\n",
              "      <th>c901e7df1</th>\n",
              "      <th>8f55955dc</th>\n",
              "      <th>85dcc913d</th>\n",
              "      <th>5ca0b9b0c</th>\n",
              "      <th>eab8abf7a</th>\n",
              "      <th>8d8bffbae</th>\n",
              "      <th>2a1f6c7f9</th>\n",
              "      <th>9437d8b64</th>\n",
              "      <th>5831f4c76</th>\n",
              "      <th>2e84e09c5</th>\n",
              "      <th>d45fd5508</th>\n",
              "      <th>a165f5761</th>\n",
              "      <th>3ecc09859</th>\n",
              "      <th>9281abeea</th>\n",
              "      <th>8675bec0b</th>\n",
              "      <th>3a13ed79a</th>\n",
              "      <th>f677d4d13</th>\n",
              "      <th>71b203550</th>\n",
              "      <th>137efaa80</th>\n",
              "      <th>fb36b89d9</th>\n",
              "      <th>7e293fbaf</th>\n",
              "      <th>9fc776466</th>\n",
              "    </tr>\n",
              "  </thead>\n",
              "  <tbody>\n",
              "    <tr>\n",
              "      <th>count</th>\n",
              "      <td>4.459000e+03</td>\n",
              "      <td>4.459000e+03</td>\n",
              "      <td>4.459000e+03</td>\n",
              "      <td>4.459000e+03</td>\n",
              "      <td>4.459000e+03</td>\n",
              "      <td>4.459000e+03</td>\n",
              "      <td>4.459000e+03</td>\n",
              "      <td>4.459000e+03</td>\n",
              "      <td>4.459000e+03</td>\n",
              "      <td>4.459000e+03</td>\n",
              "      <td>4.459000e+03</td>\n",
              "      <td>4.459000e+03</td>\n",
              "      <td>4459.000000</td>\n",
              "      <td>4.459000e+03</td>\n",
              "      <td>4.459000e+03</td>\n",
              "      <td>4.459000e+03</td>\n",
              "      <td>4.459000e+03</td>\n",
              "      <td>4.459000e+03</td>\n",
              "      <td>4.459000e+03</td>\n",
              "      <td>4.459000e+03</td>\n",
              "      <td>4.459000e+03</td>\n",
              "      <td>4.459000e+03</td>\n",
              "      <td>4.459000e+03</td>\n",
              "      <td>4.459000e+03</td>\n",
              "      <td>4.459000e+03</td>\n",
              "      <td>4.459000e+03</td>\n",
              "      <td>4.459000e+03</td>\n",
              "      <td>4459.0</td>\n",
              "      <td>4.459000e+03</td>\n",
              "      <td>4.459000e+03</td>\n",
              "      <td>4.459000e+03</td>\n",
              "      <td>4.459000e+03</td>\n",
              "      <td>4.459000e+03</td>\n",
              "      <td>4.459000e+03</td>\n",
              "      <td>4459.0</td>\n",
              "      <td>4.459000e+03</td>\n",
              "      <td>4.459000e+03</td>\n",
              "      <td>4459.0</td>\n",
              "      <td>4.459000e+03</td>\n",
              "      <td>4.459000e+03</td>\n",
              "      <td>...</td>\n",
              "      <td>4.459000e+03</td>\n",
              "      <td>4.459000e+03</td>\n",
              "      <td>4.459000e+03</td>\n",
              "      <td>4.459000e+03</td>\n",
              "      <td>4459.000000</td>\n",
              "      <td>4.459000e+03</td>\n",
              "      <td>4.459000e+03</td>\n",
              "      <td>4.459000e+03</td>\n",
              "      <td>4.459000e+03</td>\n",
              "      <td>4.459000e+03</td>\n",
              "      <td>4.459000e+03</td>\n",
              "      <td>4.459000e+03</td>\n",
              "      <td>4.459000e+03</td>\n",
              "      <td>4.459000e+03</td>\n",
              "      <td>4.459000e+03</td>\n",
              "      <td>4.459000e+03</td>\n",
              "      <td>4.459000e+03</td>\n",
              "      <td>4.459000e+03</td>\n",
              "      <td>4.459000e+03</td>\n",
              "      <td>4.459000e+03</td>\n",
              "      <td>4.459000e+03</td>\n",
              "      <td>4.459000e+03</td>\n",
              "      <td>4.459000e+03</td>\n",
              "      <td>4.459000e+03</td>\n",
              "      <td>4.459000e+03</td>\n",
              "      <td>4.459000e+03</td>\n",
              "      <td>4.459000e+03</td>\n",
              "      <td>4.459000e+03</td>\n",
              "      <td>4.459000e+03</td>\n",
              "      <td>4.459000e+03</td>\n",
              "      <td>4.459000e+03</td>\n",
              "      <td>4.459000e+03</td>\n",
              "      <td>4.459000e+03</td>\n",
              "      <td>4.459000e+03</td>\n",
              "      <td>4459.000000</td>\n",
              "      <td>4.459000e+03</td>\n",
              "      <td>4.459000e+03</td>\n",
              "      <td>4.459000e+03</td>\n",
              "      <td>4.459000e+03</td>\n",
              "      <td>4.459000e+03</td>\n",
              "    </tr>\n",
              "    <tr>\n",
              "      <th>mean</th>\n",
              "      <td>5.944923e+06</td>\n",
              "      <td>1.465493e+04</td>\n",
              "      <td>1.390895e+03</td>\n",
              "      <td>2.672245e+04</td>\n",
              "      <td>4.530164e+03</td>\n",
              "      <td>2.640996e+04</td>\n",
              "      <td>3.070811e+04</td>\n",
              "      <td>1.686522e+04</td>\n",
              "      <td>4.669208e+03</td>\n",
              "      <td>2.569407e+06</td>\n",
              "      <td>1.552158e+05</td>\n",
              "      <td>1.950500e+05</td>\n",
              "      <td>8.522090</td>\n",
              "      <td>3.595874e+03</td>\n",
              "      <td>2.258015e+06</td>\n",
              "      <td>2.680843e+05</td>\n",
              "      <td>4.588255e+04</td>\n",
              "      <td>4.451478e+04</td>\n",
              "      <td>3.968961e+05</td>\n",
              "      <td>2.883129e+04</td>\n",
              "      <td>1.940794e+03</td>\n",
              "      <td>4.483841e+05</td>\n",
              "      <td>7.989729e+04</td>\n",
              "      <td>1.548394e+05</td>\n",
              "      <td>1.128254e+05</td>\n",
              "      <td>1.148329e+05</td>\n",
              "      <td>3.377439e+03</td>\n",
              "      <td>0.0</td>\n",
              "      <td>3.794130e+05</td>\n",
              "      <td>1.202247e+05</td>\n",
              "      <td>7.426464e+05</td>\n",
              "      <td>4.994842e+03</td>\n",
              "      <td>1.725258e+06</td>\n",
              "      <td>1.941882e+05</td>\n",
              "      <td>0.0</td>\n",
              "      <td>9.338327e+04</td>\n",
              "      <td>6.296896e+05</td>\n",
              "      <td>0.0</td>\n",
              "      <td>1.249545e+06</td>\n",
              "      <td>1.200042e+06</td>\n",
              "      <td>...</td>\n",
              "      <td>2.412200e+03</td>\n",
              "      <td>3.767589e+05</td>\n",
              "      <td>6.669478e+05</td>\n",
              "      <td>4.281949e+04</td>\n",
              "      <td>6.279435</td>\n",
              "      <td>1.409112e+05</td>\n",
              "      <td>2.364780e+05</td>\n",
              "      <td>7.627485e+05</td>\n",
              "      <td>6.752640e+05</td>\n",
              "      <td>5.428654e+05</td>\n",
              "      <td>7.776979e+05</td>\n",
              "      <td>1.004851e+05</td>\n",
              "      <td>3.825025e+05</td>\n",
              "      <td>2.539583e+03</td>\n",
              "      <td>3.767661e+03</td>\n",
              "      <td>4.153891e+04</td>\n",
              "      <td>7.041224e+04</td>\n",
              "      <td>9.648562e+04</td>\n",
              "      <td>9.751240e+05</td>\n",
              "      <td>2.910967e+04</td>\n",
              "      <td>7.599802e+04</td>\n",
              "      <td>3.588248e+03</td>\n",
              "      <td>1.796016e+05</td>\n",
              "      <td>5.302810e+05</td>\n",
              "      <td>2.377396e+05</td>\n",
              "      <td>1.183135e+06</td>\n",
              "      <td>1.247793e+06</td>\n",
              "      <td>9.867683e+02</td>\n",
              "      <td>6.165015e+04</td>\n",
              "      <td>1.289495e+05</td>\n",
              "      <td>4.676057e+05</td>\n",
              "      <td>4.446239e+05</td>\n",
              "      <td>8.056219e+05</td>\n",
              "      <td>7.812966e+05</td>\n",
              "      <td>143.529939</td>\n",
              "      <td>1.213809e+05</td>\n",
              "      <td>3.573451e+04</td>\n",
              "      <td>3.123741e+05</td>\n",
              "      <td>9.219960e+04</td>\n",
              "      <td>2.279100e+05</td>\n",
              "    </tr>\n",
              "    <tr>\n",
              "      <th>std</th>\n",
              "      <td>8.234312e+06</td>\n",
              "      <td>3.893298e+05</td>\n",
              "      <td>6.428302e+04</td>\n",
              "      <td>5.699652e+05</td>\n",
              "      <td>2.359124e+05</td>\n",
              "      <td>1.514730e+06</td>\n",
              "      <td>5.770590e+05</td>\n",
              "      <td>7.512756e+05</td>\n",
              "      <td>1.879449e+05</td>\n",
              "      <td>9.610183e+06</td>\n",
              "      <td>1.587815e+06</td>\n",
              "      <td>2.397372e+06</td>\n",
              "      <td>569.068911</td>\n",
              "      <td>1.245435e+05</td>\n",
              "      <td>1.552298e+07</td>\n",
              "      <td>3.026910e+06</td>\n",
              "      <td>8.140674e+05</td>\n",
              "      <td>1.354504e+06</td>\n",
              "      <td>3.238243e+06</td>\n",
              "      <td>5.705388e+05</td>\n",
              "      <td>2.786022e+04</td>\n",
              "      <td>6.370644e+06</td>\n",
              "      <td>2.846440e+06</td>\n",
              "      <td>2.425794e+06</td>\n",
              "      <td>1.161275e+06</td>\n",
              "      <td>2.747535e+06</td>\n",
              "      <td>1.313839e+05</td>\n",
              "      <td>0.0</td>\n",
              "      <td>3.561409e+06</td>\n",
              "      <td>4.867503e+06</td>\n",
              "      <td>3.799941e+06</td>\n",
              "      <td>1.868664e+05</td>\n",
              "      <td>9.034308e+06</td>\n",
              "      <td>1.481349e+06</td>\n",
              "      <td>0.0</td>\n",
              "      <td>8.547764e+05</td>\n",
              "      <td>6.956380e+06</td>\n",
              "      <td>0.0</td>\n",
              "      <td>7.361173e+06</td>\n",
              "      <td>8.113234e+06</td>\n",
              "      <td>...</td>\n",
              "      <td>1.498586e+05</td>\n",
              "      <td>7.755051e+06</td>\n",
              "      <td>6.261373e+06</td>\n",
              "      <td>5.473370e+05</td>\n",
              "      <td>322.557139</td>\n",
              "      <td>2.052878e+06</td>\n",
              "      <td>1.533062e+06</td>\n",
              "      <td>5.816722e+06</td>\n",
              "      <td>7.444468e+06</td>\n",
              "      <td>4.250172e+06</td>\n",
              "      <td>4.287643e+06</td>\n",
              "      <td>9.150068e+05</td>\n",
              "      <td>2.799848e+06</td>\n",
              "      <td>1.508683e+05</td>\n",
              "      <td>2.515884e+05</td>\n",
              "      <td>1.179500e+06</td>\n",
              "      <td>2.810830e+06</td>\n",
              "      <td>1.114863e+06</td>\n",
              "      <td>9.750283e+06</td>\n",
              "      <td>7.912064e+05</td>\n",
              "      <td>1.206581e+06</td>\n",
              "      <td>2.396080e+05</td>\n",
              "      <td>1.660884e+06</td>\n",
              "      <td>4.497567e+06</td>\n",
              "      <td>4.109065e+06</td>\n",
              "      <td>1.139493e+07</td>\n",
              "      <td>6.878895e+06</td>\n",
              "      <td>6.589219e+04</td>\n",
              "      <td>2.124731e+06</td>\n",
              "      <td>1.335938e+06</td>\n",
              "      <td>4.068038e+06</td>\n",
              "      <td>4.428889e+06</td>\n",
              "      <td>4.513246e+06</td>\n",
              "      <td>6.839451e+06</td>\n",
              "      <td>9584.318507</td>\n",
              "      <td>4.720709e+06</td>\n",
              "      <td>1.614622e+06</td>\n",
              "      <td>4.318501e+06</td>\n",
              "      <td>1.635993e+06</td>\n",
              "      <td>1.811139e+06</td>\n",
              "    </tr>\n",
              "    <tr>\n",
              "      <th>min</th>\n",
              "      <td>3.000000e+04</td>\n",
              "      <td>0.000000e+00</td>\n",
              "      <td>0.000000e+00</td>\n",
              "      <td>0.000000e+00</td>\n",
              "      <td>0.000000e+00</td>\n",
              "      <td>0.000000e+00</td>\n",
              "      <td>0.000000e+00</td>\n",
              "      <td>0.000000e+00</td>\n",
              "      <td>0.000000e+00</td>\n",
              "      <td>0.000000e+00</td>\n",
              "      <td>0.000000e+00</td>\n",
              "      <td>0.000000e+00</td>\n",
              "      <td>0.000000</td>\n",
              "      <td>0.000000e+00</td>\n",
              "      <td>0.000000e+00</td>\n",
              "      <td>0.000000e+00</td>\n",
              "      <td>0.000000e+00</td>\n",
              "      <td>0.000000e+00</td>\n",
              "      <td>0.000000e+00</td>\n",
              "      <td>0.000000e+00</td>\n",
              "      <td>0.000000e+00</td>\n",
              "      <td>0.000000e+00</td>\n",
              "      <td>0.000000e+00</td>\n",
              "      <td>0.000000e+00</td>\n",
              "      <td>0.000000e+00</td>\n",
              "      <td>0.000000e+00</td>\n",
              "      <td>0.000000e+00</td>\n",
              "      <td>0.0</td>\n",
              "      <td>0.000000e+00</td>\n",
              "      <td>0.000000e+00</td>\n",
              "      <td>0.000000e+00</td>\n",
              "      <td>0.000000e+00</td>\n",
              "      <td>0.000000e+00</td>\n",
              "      <td>0.000000e+00</td>\n",
              "      <td>0.0</td>\n",
              "      <td>0.000000e+00</td>\n",
              "      <td>0.000000e+00</td>\n",
              "      <td>0.0</td>\n",
              "      <td>0.000000e+00</td>\n",
              "      <td>0.000000e+00</td>\n",
              "      <td>...</td>\n",
              "      <td>0.000000e+00</td>\n",
              "      <td>0.000000e+00</td>\n",
              "      <td>0.000000e+00</td>\n",
              "      <td>0.000000e+00</td>\n",
              "      <td>0.000000</td>\n",
              "      <td>0.000000e+00</td>\n",
              "      <td>0.000000e+00</td>\n",
              "      <td>0.000000e+00</td>\n",
              "      <td>0.000000e+00</td>\n",
              "      <td>0.000000e+00</td>\n",
              "      <td>0.000000e+00</td>\n",
              "      <td>0.000000e+00</td>\n",
              "      <td>0.000000e+00</td>\n",
              "      <td>0.000000e+00</td>\n",
              "      <td>0.000000e+00</td>\n",
              "      <td>0.000000e+00</td>\n",
              "      <td>0.000000e+00</td>\n",
              "      <td>0.000000e+00</td>\n",
              "      <td>0.000000e+00</td>\n",
              "      <td>0.000000e+00</td>\n",
              "      <td>0.000000e+00</td>\n",
              "      <td>0.000000e+00</td>\n",
              "      <td>0.000000e+00</td>\n",
              "      <td>0.000000e+00</td>\n",
              "      <td>0.000000e+00</td>\n",
              "      <td>0.000000e+00</td>\n",
              "      <td>0.000000e+00</td>\n",
              "      <td>0.000000e+00</td>\n",
              "      <td>0.000000e+00</td>\n",
              "      <td>0.000000e+00</td>\n",
              "      <td>0.000000e+00</td>\n",
              "      <td>0.000000e+00</td>\n",
              "      <td>0.000000e+00</td>\n",
              "      <td>0.000000e+00</td>\n",
              "      <td>0.000000</td>\n",
              "      <td>0.000000e+00</td>\n",
              "      <td>0.000000e+00</td>\n",
              "      <td>0.000000e+00</td>\n",
              "      <td>0.000000e+00</td>\n",
              "      <td>0.000000e+00</td>\n",
              "    </tr>\n",
              "    <tr>\n",
              "      <th>25%</th>\n",
              "      <td>6.000000e+05</td>\n",
              "      <td>0.000000e+00</td>\n",
              "      <td>0.000000e+00</td>\n",
              "      <td>0.000000e+00</td>\n",
              "      <td>0.000000e+00</td>\n",
              "      <td>0.000000e+00</td>\n",
              "      <td>0.000000e+00</td>\n",
              "      <td>0.000000e+00</td>\n",
              "      <td>0.000000e+00</td>\n",
              "      <td>0.000000e+00</td>\n",
              "      <td>0.000000e+00</td>\n",
              "      <td>0.000000e+00</td>\n",
              "      <td>0.000000</td>\n",
              "      <td>0.000000e+00</td>\n",
              "      <td>0.000000e+00</td>\n",
              "      <td>0.000000e+00</td>\n",
              "      <td>0.000000e+00</td>\n",
              "      <td>0.000000e+00</td>\n",
              "      <td>0.000000e+00</td>\n",
              "      <td>0.000000e+00</td>\n",
              "      <td>0.000000e+00</td>\n",
              "      <td>0.000000e+00</td>\n",
              "      <td>0.000000e+00</td>\n",
              "      <td>0.000000e+00</td>\n",
              "      <td>0.000000e+00</td>\n",
              "      <td>0.000000e+00</td>\n",
              "      <td>0.000000e+00</td>\n",
              "      <td>0.0</td>\n",
              "      <td>0.000000e+00</td>\n",
              "      <td>0.000000e+00</td>\n",
              "      <td>0.000000e+00</td>\n",
              "      <td>0.000000e+00</td>\n",
              "      <td>0.000000e+00</td>\n",
              "      <td>0.000000e+00</td>\n",
              "      <td>0.0</td>\n",
              "      <td>0.000000e+00</td>\n",
              "      <td>0.000000e+00</td>\n",
              "      <td>0.0</td>\n",
              "      <td>0.000000e+00</td>\n",
              "      <td>0.000000e+00</td>\n",
              "      <td>...</td>\n",
              "      <td>0.000000e+00</td>\n",
              "      <td>0.000000e+00</td>\n",
              "      <td>0.000000e+00</td>\n",
              "      <td>0.000000e+00</td>\n",
              "      <td>0.000000</td>\n",
              "      <td>0.000000e+00</td>\n",
              "      <td>0.000000e+00</td>\n",
              "      <td>0.000000e+00</td>\n",
              "      <td>0.000000e+00</td>\n",
              "      <td>0.000000e+00</td>\n",
              "      <td>0.000000e+00</td>\n",
              "      <td>0.000000e+00</td>\n",
              "      <td>0.000000e+00</td>\n",
              "      <td>0.000000e+00</td>\n",
              "      <td>0.000000e+00</td>\n",
              "      <td>0.000000e+00</td>\n",
              "      <td>0.000000e+00</td>\n",
              "      <td>0.000000e+00</td>\n",
              "      <td>0.000000e+00</td>\n",
              "      <td>0.000000e+00</td>\n",
              "      <td>0.000000e+00</td>\n",
              "      <td>0.000000e+00</td>\n",
              "      <td>0.000000e+00</td>\n",
              "      <td>0.000000e+00</td>\n",
              "      <td>0.000000e+00</td>\n",
              "      <td>0.000000e+00</td>\n",
              "      <td>0.000000e+00</td>\n",
              "      <td>0.000000e+00</td>\n",
              "      <td>0.000000e+00</td>\n",
              "      <td>0.000000e+00</td>\n",
              "      <td>0.000000e+00</td>\n",
              "      <td>0.000000e+00</td>\n",
              "      <td>0.000000e+00</td>\n",
              "      <td>0.000000e+00</td>\n",
              "      <td>0.000000</td>\n",
              "      <td>0.000000e+00</td>\n",
              "      <td>0.000000e+00</td>\n",
              "      <td>0.000000e+00</td>\n",
              "      <td>0.000000e+00</td>\n",
              "      <td>0.000000e+00</td>\n",
              "    </tr>\n",
              "    <tr>\n",
              "      <th>50%</th>\n",
              "      <td>2.260000e+06</td>\n",
              "      <td>0.000000e+00</td>\n",
              "      <td>0.000000e+00</td>\n",
              "      <td>0.000000e+00</td>\n",
              "      <td>0.000000e+00</td>\n",
              "      <td>0.000000e+00</td>\n",
              "      <td>0.000000e+00</td>\n",
              "      <td>0.000000e+00</td>\n",
              "      <td>0.000000e+00</td>\n",
              "      <td>0.000000e+00</td>\n",
              "      <td>0.000000e+00</td>\n",
              "      <td>0.000000e+00</td>\n",
              "      <td>0.000000</td>\n",
              "      <td>0.000000e+00</td>\n",
              "      <td>0.000000e+00</td>\n",
              "      <td>0.000000e+00</td>\n",
              "      <td>0.000000e+00</td>\n",
              "      <td>0.000000e+00</td>\n",
              "      <td>0.000000e+00</td>\n",
              "      <td>0.000000e+00</td>\n",
              "      <td>0.000000e+00</td>\n",
              "      <td>0.000000e+00</td>\n",
              "      <td>0.000000e+00</td>\n",
              "      <td>0.000000e+00</td>\n",
              "      <td>0.000000e+00</td>\n",
              "      <td>0.000000e+00</td>\n",
              "      <td>0.000000e+00</td>\n",
              "      <td>0.0</td>\n",
              "      <td>0.000000e+00</td>\n",
              "      <td>0.000000e+00</td>\n",
              "      <td>0.000000e+00</td>\n",
              "      <td>0.000000e+00</td>\n",
              "      <td>0.000000e+00</td>\n",
              "      <td>0.000000e+00</td>\n",
              "      <td>0.0</td>\n",
              "      <td>0.000000e+00</td>\n",
              "      <td>0.000000e+00</td>\n",
              "      <td>0.0</td>\n",
              "      <td>0.000000e+00</td>\n",
              "      <td>0.000000e+00</td>\n",
              "      <td>...</td>\n",
              "      <td>0.000000e+00</td>\n",
              "      <td>0.000000e+00</td>\n",
              "      <td>0.000000e+00</td>\n",
              "      <td>0.000000e+00</td>\n",
              "      <td>0.000000</td>\n",
              "      <td>0.000000e+00</td>\n",
              "      <td>0.000000e+00</td>\n",
              "      <td>0.000000e+00</td>\n",
              "      <td>0.000000e+00</td>\n",
              "      <td>0.000000e+00</td>\n",
              "      <td>0.000000e+00</td>\n",
              "      <td>0.000000e+00</td>\n",
              "      <td>0.000000e+00</td>\n",
              "      <td>0.000000e+00</td>\n",
              "      <td>0.000000e+00</td>\n",
              "      <td>0.000000e+00</td>\n",
              "      <td>0.000000e+00</td>\n",
              "      <td>0.000000e+00</td>\n",
              "      <td>0.000000e+00</td>\n",
              "      <td>0.000000e+00</td>\n",
              "      <td>0.000000e+00</td>\n",
              "      <td>0.000000e+00</td>\n",
              "      <td>0.000000e+00</td>\n",
              "      <td>0.000000e+00</td>\n",
              "      <td>0.000000e+00</td>\n",
              "      <td>0.000000e+00</td>\n",
              "      <td>0.000000e+00</td>\n",
              "      <td>0.000000e+00</td>\n",
              "      <td>0.000000e+00</td>\n",
              "      <td>0.000000e+00</td>\n",
              "      <td>0.000000e+00</td>\n",
              "      <td>0.000000e+00</td>\n",
              "      <td>0.000000e+00</td>\n",
              "      <td>0.000000e+00</td>\n",
              "      <td>0.000000</td>\n",
              "      <td>0.000000e+00</td>\n",
              "      <td>0.000000e+00</td>\n",
              "      <td>0.000000e+00</td>\n",
              "      <td>0.000000e+00</td>\n",
              "      <td>0.000000e+00</td>\n",
              "    </tr>\n",
              "    <tr>\n",
              "      <th>75%</th>\n",
              "      <td>8.000000e+06</td>\n",
              "      <td>0.000000e+00</td>\n",
              "      <td>0.000000e+00</td>\n",
              "      <td>0.000000e+00</td>\n",
              "      <td>0.000000e+00</td>\n",
              "      <td>0.000000e+00</td>\n",
              "      <td>0.000000e+00</td>\n",
              "      <td>0.000000e+00</td>\n",
              "      <td>0.000000e+00</td>\n",
              "      <td>6.000000e+05</td>\n",
              "      <td>0.000000e+00</td>\n",
              "      <td>0.000000e+00</td>\n",
              "      <td>0.000000</td>\n",
              "      <td>0.000000e+00</td>\n",
              "      <td>0.000000e+00</td>\n",
              "      <td>0.000000e+00</td>\n",
              "      <td>0.000000e+00</td>\n",
              "      <td>0.000000e+00</td>\n",
              "      <td>0.000000e+00</td>\n",
              "      <td>0.000000e+00</td>\n",
              "      <td>0.000000e+00</td>\n",
              "      <td>0.000000e+00</td>\n",
              "      <td>0.000000e+00</td>\n",
              "      <td>0.000000e+00</td>\n",
              "      <td>0.000000e+00</td>\n",
              "      <td>0.000000e+00</td>\n",
              "      <td>0.000000e+00</td>\n",
              "      <td>0.0</td>\n",
              "      <td>0.000000e+00</td>\n",
              "      <td>0.000000e+00</td>\n",
              "      <td>0.000000e+00</td>\n",
              "      <td>0.000000e+00</td>\n",
              "      <td>0.000000e+00</td>\n",
              "      <td>0.000000e+00</td>\n",
              "      <td>0.0</td>\n",
              "      <td>0.000000e+00</td>\n",
              "      <td>0.000000e+00</td>\n",
              "      <td>0.0</td>\n",
              "      <td>0.000000e+00</td>\n",
              "      <td>0.000000e+00</td>\n",
              "      <td>...</td>\n",
              "      <td>0.000000e+00</td>\n",
              "      <td>0.000000e+00</td>\n",
              "      <td>0.000000e+00</td>\n",
              "      <td>0.000000e+00</td>\n",
              "      <td>0.000000</td>\n",
              "      <td>0.000000e+00</td>\n",
              "      <td>0.000000e+00</td>\n",
              "      <td>0.000000e+00</td>\n",
              "      <td>0.000000e+00</td>\n",
              "      <td>0.000000e+00</td>\n",
              "      <td>0.000000e+00</td>\n",
              "      <td>0.000000e+00</td>\n",
              "      <td>0.000000e+00</td>\n",
              "      <td>0.000000e+00</td>\n",
              "      <td>0.000000e+00</td>\n",
              "      <td>0.000000e+00</td>\n",
              "      <td>0.000000e+00</td>\n",
              "      <td>0.000000e+00</td>\n",
              "      <td>0.000000e+00</td>\n",
              "      <td>0.000000e+00</td>\n",
              "      <td>0.000000e+00</td>\n",
              "      <td>0.000000e+00</td>\n",
              "      <td>0.000000e+00</td>\n",
              "      <td>0.000000e+00</td>\n",
              "      <td>0.000000e+00</td>\n",
              "      <td>0.000000e+00</td>\n",
              "      <td>0.000000e+00</td>\n",
              "      <td>0.000000e+00</td>\n",
              "      <td>0.000000e+00</td>\n",
              "      <td>0.000000e+00</td>\n",
              "      <td>0.000000e+00</td>\n",
              "      <td>0.000000e+00</td>\n",
              "      <td>0.000000e+00</td>\n",
              "      <td>0.000000e+00</td>\n",
              "      <td>0.000000</td>\n",
              "      <td>0.000000e+00</td>\n",
              "      <td>0.000000e+00</td>\n",
              "      <td>0.000000e+00</td>\n",
              "      <td>0.000000e+00</td>\n",
              "      <td>0.000000e+00</td>\n",
              "    </tr>\n",
              "    <tr>\n",
              "      <th>max</th>\n",
              "      <td>4.000000e+07</td>\n",
              "      <td>2.000000e+07</td>\n",
              "      <td>4.000000e+06</td>\n",
              "      <td>2.000000e+07</td>\n",
              "      <td>1.480000e+07</td>\n",
              "      <td>1.000000e+08</td>\n",
              "      <td>2.070800e+07</td>\n",
              "      <td>4.000000e+07</td>\n",
              "      <td>1.040000e+07</td>\n",
              "      <td>3.196120e+08</td>\n",
              "      <td>6.000000e+07</td>\n",
              "      <td>1.000000e+08</td>\n",
              "      <td>38000.000000</td>\n",
              "      <td>6.000000e+06</td>\n",
              "      <td>3.560000e+08</td>\n",
              "      <td>6.600000e+07</td>\n",
              "      <td>3.111000e+07</td>\n",
              "      <td>7.960000e+07</td>\n",
              "      <td>1.000000e+08</td>\n",
              "      <td>2.173000e+07</td>\n",
              "      <td>1.100000e+06</td>\n",
              "      <td>2.000000e+08</td>\n",
              "      <td>1.536720e+08</td>\n",
              "      <td>6.000000e+07</td>\n",
              "      <td>3.720000e+07</td>\n",
              "      <td>1.000000e+08</td>\n",
              "      <td>6.000000e+06</td>\n",
              "      <td>0.0</td>\n",
              "      <td>7.600000e+07</td>\n",
              "      <td>3.167500e+08</td>\n",
              "      <td>7.000000e+07</td>\n",
              "      <td>1.000000e+07</td>\n",
              "      <td>1.500000e+08</td>\n",
              "      <td>6.000000e+07</td>\n",
              "      <td>0.0</td>\n",
              "      <td>2.500000e+07</td>\n",
              "      <td>3.023120e+08</td>\n",
              "      <td>0.0</td>\n",
              "      <td>3.338000e+08</td>\n",
              "      <td>3.196120e+08</td>\n",
              "      <td>...</td>\n",
              "      <td>1.000000e+07</td>\n",
              "      <td>3.600000e+08</td>\n",
              "      <td>2.057560e+08</td>\n",
              "      <td>1.376000e+07</td>\n",
              "      <td>20000.000000</td>\n",
              "      <td>6.000000e+07</td>\n",
              "      <td>3.503000e+07</td>\n",
              "      <td>2.000000e+08</td>\n",
              "      <td>2.744060e+08</td>\n",
              "      <td>1.300000e+08</td>\n",
              "      <td>1.000000e+08</td>\n",
              "      <td>2.400000e+07</td>\n",
              "      <td>5.000000e+07</td>\n",
              "      <td>1.000000e+07</td>\n",
              "      <td>1.680000e+07</td>\n",
              "      <td>5.000000e+07</td>\n",
              "      <td>1.536720e+08</td>\n",
              "      <td>4.000000e+07</td>\n",
              "      <td>3.092000e+08</td>\n",
              "      <td>4.000000e+07</td>\n",
              "      <td>5.000000e+07</td>\n",
              "      <td>1.600000e+07</td>\n",
              "      <td>4.000000e+07</td>\n",
              "      <td>1.500000e+08</td>\n",
              "      <td>1.500000e+08</td>\n",
              "      <td>5.161240e+08</td>\n",
              "      <td>1.601600e+08</td>\n",
              "      <td>4.400000e+06</td>\n",
              "      <td>1.200000e+08</td>\n",
              "      <td>4.528000e+07</td>\n",
              "      <td>7.600000e+07</td>\n",
              "      <td>1.235880e+08</td>\n",
              "      <td>1.300000e+08</td>\n",
              "      <td>1.444000e+08</td>\n",
              "      <td>640000.000000</td>\n",
              "      <td>3.013120e+08</td>\n",
              "      <td>1.064200e+08</td>\n",
              "      <td>1.400000e+08</td>\n",
              "      <td>6.176800e+07</td>\n",
              "      <td>4.320000e+07</td>\n",
              "    </tr>\n",
              "  </tbody>\n",
              "</table>\n",
              "<p>8 rows × 4992 columns</p>\n",
              "</div>"
            ],
            "text/plain": [
              "             target     48df886f9  ...     7e293fbaf     9fc776466\n",
              "count  4.459000e+03  4.459000e+03  ...  4.459000e+03  4.459000e+03\n",
              "mean   5.944923e+06  1.465493e+04  ...  9.219960e+04  2.279100e+05\n",
              "std    8.234312e+06  3.893298e+05  ...  1.635993e+06  1.811139e+06\n",
              "min    3.000000e+04  0.000000e+00  ...  0.000000e+00  0.000000e+00\n",
              "25%    6.000000e+05  0.000000e+00  ...  0.000000e+00  0.000000e+00\n",
              "50%    2.260000e+06  0.000000e+00  ...  0.000000e+00  0.000000e+00\n",
              "75%    8.000000e+06  0.000000e+00  ...  0.000000e+00  0.000000e+00\n",
              "max    4.000000e+07  2.000000e+07  ...  6.176800e+07  4.320000e+07\n",
              "\n",
              "[8 rows x 4992 columns]"
            ]
          },
          "metadata": {
            "tags": []
          },
          "execution_count": 5
        }
      ]
    },
    {
      "cell_type": "markdown",
      "metadata": {
        "colab_type": "text",
        "id": "syqRJSL7W5-p"
      },
      "source": [
        "### Check the info of the dataset"
      ]
    },
    {
      "cell_type": "code",
      "metadata": {
        "_uuid": "c3ef44c72a4dd939ed91d71c8333ffa7ff88bf3a",
        "colab_type": "code",
        "id": "3Kj7M_ccW5-q",
        "outputId": "3c3624d1-d84e-4d9f-f683-75a937e7e6f9",
        "colab": {
          "base_uri": "https://localhost:8080/",
          "height": 102
        }
      },
      "source": [
        "value.info()"
      ],
      "execution_count": 0,
      "outputs": [
        {
          "output_type": "stream",
          "text": [
            "<class 'pandas.core.frame.DataFrame'>\n",
            "RangeIndex: 4459 entries, 0 to 4458\n",
            "Columns: 4993 entries, ID to 9fc776466\n",
            "dtypes: float64(1845), int64(3147), object(1)\n",
            "memory usage: 169.9+ MB\n"
          ],
          "name": "stdout"
        }
      ]
    },
    {
      "cell_type": "markdown",
      "metadata": {
        "colab_type": "text",
        "id": "wlfAgoYqW5-w"
      },
      "source": [
        "<a id=section4></a>"
      ]
    },
    {
      "cell_type": "markdown",
      "metadata": {
        "colab_type": "text",
        "id": "Syhxgf6CW5-y"
      },
      "source": [
        "## 4. Exploratory Data Analysis"
      ]
    },
    {
      "cell_type": "markdown",
      "metadata": {
        "colab_type": "text",
        "id": "Bn_z3_rrW5-0"
      },
      "source": [
        "### Check for categorical varibales"
      ]
    },
    {
      "cell_type": "code",
      "metadata": {
        "_uuid": "4a874809334fa7741a0528c96d6e5a430504422d",
        "colab_type": "code",
        "id": "0KjEvIPtW5-2",
        "outputId": "2a3a9c12-8df2-42a5-fe56-9e26b49d434d",
        "scrolled": true,
        "colab": {
          "base_uri": "https://localhost:8080/",
          "height": 51
        }
      },
      "source": [
        "value.select_dtypes(include=['object']).dtypes"
      ],
      "execution_count": 6,
      "outputs": [
        {
          "output_type": "execute_result",
          "data": {
            "text/plain": [
              "ID    object\n",
              "dtype: object"
            ]
          },
          "metadata": {
            "tags": []
          },
          "execution_count": 6
        }
      ]
    },
    {
      "cell_type": "markdown",
      "metadata": {
        "colab_type": "text",
        "id": "7VjHNOdXW5_E"
      },
      "source": [
        "### Check for missing values"
      ]
    },
    {
      "cell_type": "code",
      "metadata": {
        "_uuid": "5fb978cf4ddd6bea5f33497246e198410811590f",
        "colab_type": "code",
        "id": "8iTds5SjW5_G",
        "outputId": "4684798a-be0d-4330-eed4-833aa6cf29f8",
        "colab": {
          "base_uri": "https://localhost:8080/",
          "height": 34
        }
      },
      "source": [
        "value.isnull().sum().any()"
      ],
      "execution_count": 7,
      "outputs": [
        {
          "output_type": "execute_result",
          "data": {
            "text/plain": [
              "False"
            ]
          },
          "metadata": {
            "tags": []
          },
          "execution_count": 7
        }
      ]
    },
    {
      "cell_type": "markdown",
      "metadata": {
        "colab_type": "text",
        "id": "Lb0hwV0lW5_Q"
      },
      "source": [
        "### Dropping values which is reduntant for model "
      ]
    },
    {
      "cell_type": "code",
      "metadata": {
        "_kg_hide-output": true,
        "_uuid": "59937f8b6a648f488e8a27ee87060ec640347e1e",
        "colab_type": "code",
        "id": "pv3U9hGtW5_V",
        "colab": {}
      },
      "source": [
        "value = value.drop('ID', axis = 1)"
      ],
      "execution_count": 0,
      "outputs": []
    },
    {
      "cell_type": "markdown",
      "metadata": {
        "_uuid": "b228a4771ddc55dba0ce610b7a9f431834f878a0",
        "colab_type": "text",
        "id": "8nXtP9f2W5_b"
      },
      "source": [
        "### Observations\n",
        "1. Columns names do not make sense, so we will have to perform feature extraction for this data to make sense.\n",
        "2. **No missing data** in the dataset "
      ]
    },
    {
      "cell_type": "markdown",
      "metadata": {
        "_uuid": "2c5004c1a9dcbe6fe65bcb91aed111bfb3421ec4",
        "colab_type": "text",
        "id": "d_ABnwh1W5_d"
      },
      "source": [
        "## UNIVARIATE ANALYSIS OF THE TARGET FIELD\n",
        "\n",
        "- Let's pick the __target__ field and try to analyse it.\n"
      ]
    },
    {
      "cell_type": "markdown",
      "metadata": {
        "colab_type": "text",
        "id": "BNl_KnIEW5_e"
      },
      "source": [
        "### Describe the target variable"
      ]
    },
    {
      "cell_type": "code",
      "metadata": {
        "_uuid": "71b36f17ec9462be97b7d8d0d24d81a8743826cb",
        "colab_type": "code",
        "id": "6twvNzPDW5_f",
        "outputId": "0ce3540d-0b6d-4b85-917d-d94da11a4b82",
        "colab": {
          "base_uri": "https://localhost:8080/",
          "height": 170
        }
      },
      "source": [
        "value['target'].describe()"
      ],
      "execution_count": 0,
      "outputs": [
        {
          "output_type": "execute_result",
          "data": {
            "text/plain": [
              "count    4.459000e+03\n",
              "mean     5.944923e+06\n",
              "std      8.234312e+06\n",
              "min      3.000000e+04\n",
              "25%      6.000000e+05\n",
              "50%      2.260000e+06\n",
              "75%      8.000000e+06\n",
              "max      4.000000e+07\n",
              "Name: target, dtype: float64"
            ]
          },
          "metadata": {
            "tags": []
          },
          "execution_count": 135
        }
      ]
    },
    {
      "cell_type": "markdown",
      "metadata": {
        "colab_type": "text",
        "id": "IAVDklk8W5_m"
      },
      "source": [
        "### Plot a distribution plot to see the distribution of the target field"
      ]
    },
    {
      "cell_type": "code",
      "metadata": {
        "_uuid": "932c28f5f8876ad4c0322c4197c7fa8c23159c00",
        "colab_type": "code",
        "id": "YkisITJfW5_n",
        "outputId": "dff83dcd-599a-43ee-8cc2-cb6ad2321663",
        "colab": {
          "base_uri": "https://localhost:8080/",
          "height": 413
        }
      },
      "source": [
        "plt.figure(figsize=(8,5))\n",
        "sns.distplot(value['target'])"
      ],
      "execution_count": 0,
      "outputs": [
        {
          "output_type": "stream",
          "text": [
            "/usr/local/lib/python3.6/dist-packages/matplotlib/axes/_axes.py:6521: MatplotlibDeprecationWarning: \n",
            "The 'normed' kwarg was deprecated in Matplotlib 2.1 and will be removed in 3.1. Use 'density' instead.\n",
            "  alternative=\"'density'\", removal=\"3.1\")\n"
          ],
          "name": "stderr"
        },
        {
          "output_type": "execute_result",
          "data": {
            "text/plain": [
              "<matplotlib.axes._subplots.AxesSubplot at 0x7f86fb8b5828>"
            ]
          },
          "metadata": {
            "tags": []
          },
          "execution_count": 136
        },
        {
          "output_type": "display_data",
          "data": {
            "image/png": "[encoded data removed]",
            "text/plain": [
              "<Figure size 576x360 with 1 Axes>"
            ]
          },
          "metadata": {
            "tags": []
          }
        }
      ]
    },
    {
      "cell_type": "markdown",
      "metadata": {
        "_uuid": "fe732c7d6adda2e53dfca9853afe5c83046f0387",
        "colab_type": "text",
        "id": "KQKlysTrW5_s"
      },
      "source": [
        "#### Observation:\n",
        "This seems to be a highly skewed target variable. Let's take the __log__ of it to check the distribution."
      ]
    },
    {
      "cell_type": "markdown",
      "metadata": {
        "colab_type": "text",
        "id": "3u8Fa8ASW5_u"
      },
      "source": [
        "### Let us replot the distribution of target field after taking log."
      ]
    },
    {
      "cell_type": "code",
      "metadata": {
        "_uuid": "e1e3c4a6e9c7c4c8b8011cbc2d094498d6f66f65",
        "colab_type": "code",
        "id": "IVct5YHPW5_x",
        "outputId": "cfded372-c616-455c-be39-795ed53ae458",
        "colab": {
          "base_uri": "https://localhost:8080/",
          "height": 402
        }
      },
      "source": [
        "plt.figure(figsize=(8,5))\n",
        "sns.distplot(np.log1p(value['target']), kde='False')"
      ],
      "execution_count": 0,
      "outputs": [
        {
          "output_type": "stream",
          "text": [
            "/usr/local/lib/python3.6/dist-packages/matplotlib/axes/_axes.py:6521: MatplotlibDeprecationWarning: \n",
            "The 'normed' kwarg was deprecated in Matplotlib 2.1 and will be removed in 3.1. Use 'density' instead.\n",
            "  alternative=\"'density'\", removal=\"3.1\")\n"
          ],
          "name": "stderr"
        },
        {
          "output_type": "execute_result",
          "data": {
            "text/plain": [
              "<matplotlib.axes._subplots.AxesSubplot at 0x7f8701c454a8>"
            ]
          },
          "metadata": {
            "tags": []
          },
          "execution_count": 137
        },
        {
          "output_type": "display_data",
          "data": {
            "image/png": "[encoded data removed]",
            "text/plain": [
              "<Figure size 576x360 with 1 Axes>"
            ]
          },
          "metadata": {
            "tags": []
          }
        }
      ]
    },
    {
      "cell_type": "markdown",
      "metadata": {
        "_uuid": "d93ec5fd6b525b6cd0bd2808f302da7b846fb986",
        "colab_type": "text",
        "id": "dN9Zx5KMW5_1"
      },
      "source": [
        "#### Observation\n",
        "Better distributed now! Let's check the __value.info__ after taking the log"
      ]
    },
    {
      "cell_type": "markdown",
      "metadata": {
        "colab_type": "text",
        "id": "8QDrIVUPW5_3"
      },
      "source": [
        "### Checking the descriptive after normalizing the target variable"
      ]
    },
    {
      "cell_type": "code",
      "metadata": {
        "_uuid": "43f5262201ab0b0ba2122e4cf45e55a0c65eec15",
        "colab_type": "code",
        "id": "CqLQVc04W5_5",
        "outputId": "3a1e1037-8c8d-45a7-fd36-c4700b5aecbb",
        "colab": {
          "base_uri": "https://localhost:8080/",
          "height": 170
        }
      },
      "source": [
        "np.log1p(value['target']).describe()"
      ],
      "execution_count": 0,
      "outputs": [
        {
          "output_type": "execute_result",
          "data": {
            "text/plain": [
              "count    4459.000000\n",
              "mean       14.490239\n",
              "std         1.750947\n",
              "min        10.308986\n",
              "25%        13.304687\n",
              "50%        14.630876\n",
              "75%        15.894952\n",
              "max        17.504390\n",
              "Name: target, dtype: float64"
            ]
          },
          "metadata": {
            "tags": []
          },
          "execution_count": 138
        }
      ]
    },
    {
      "cell_type": "markdown",
      "metadata": {
        "_uuid": "a18a583cffa0a6958c239c1b65c33d6b34cd271b",
        "colab_type": "text",
        "id": "EZpB6KMuW5__"
      },
      "source": [
        "### Observation:\n",
        "This is a LOT better! Helps us better understand the distribution of the 'target' column. "
      ]
    },
    {
      "cell_type": "markdown",
      "metadata": {
        "colab_type": "text",
        "id": "pY8CnUWSW6AD"
      },
      "source": [
        "### Plotting a scatter plot of target variable with column '48df886f9' to check the spread."
      ]
    },
    {
      "cell_type": "code",
      "metadata": {
        "_uuid": "e7a1e3a37f484f24c66d6001d0b87c442530abf3",
        "colab_type": "code",
        "id": "Wp8iK7i_W6AE",
        "outputId": "360d6f71-dc5d-46a6-b338-5e176914e23d",
        "colab": {
          "base_uri": "https://localhost:8080/",
          "height": 385
        }
      },
      "source": [
        "plt.figure(figsize=(5,5))\n",
        "plt.scatter(np.log(value['48df886f9']),np.log(value['target']))\n",
        "plt.xlabel('48df886f9')\n",
        "plt.ylabel('Target')"
      ],
      "execution_count": 0,
      "outputs": [
        {
          "output_type": "stream",
          "text": [
            "/usr/local/lib/python3.6/dist-packages/ipykernel_launcher.py:2: RuntimeWarning: divide by zero encountered in log\n",
            "  \n"
          ],
          "name": "stderr"
        },
        {
          "output_type": "execute_result",
          "data": {
            "text/plain": [
              "Text(0, 0.5, 'Target')"
            ]
          },
          "metadata": {
            "tags": []
          },
          "execution_count": 139
        },
        {
          "output_type": "display_data",
          "data": {
            "image/png": "[encoded data removed]",
            "text/plain": [
              "<Figure size 360x360 with 1 Axes>"
            ]
          },
          "metadata": {
            "tags": []
          }
        }
      ]
    },
    {
      "cell_type": "markdown",
      "metadata": {
        "_uuid": "b275fecbf1521ab0b0b7ac94d6386de567c5d041",
        "colab_type": "text",
        "id": "cBXtcSU0W6AL"
      },
      "source": [
        "### Perform some basic checks on the target column."
      ]
    },
    {
      "cell_type": "code",
      "metadata": {
        "_kg_hide-output": true,
        "_uuid": "3acdddebee13ad25f9791dc663bd9194b6aefcd5",
        "colab_type": "code",
        "id": "p7Z_633AW6AP",
        "outputId": "49eea388-659e-41cb-9939-ce78b9e09c11",
        "scrolled": true,
        "colab": {
          "base_uri": "https://localhost:8080/",
          "height": 1071
        }
      },
      "source": [
        "value['target'].sort_values(ascending=False)"
      ],
      "execution_count": 0,
      "outputs": [
        {
          "output_type": "execute_result",
          "data": {
            "text/plain": [
              "713     40000000.00\n",
              "1968    40000000.00\n",
              "3662    40000000.00\n",
              "730     40000000.00\n",
              "3591    40000000.00\n",
              "2619    40000000.00\n",
              "1891    40000000.00\n",
              "3467    40000000.00\n",
              "985     40000000.00\n",
              "4111    40000000.00\n",
              "2354    40000000.00\n",
              "173     40000000.00\n",
              "348     40000000.00\n",
              "2160    40000000.00\n",
              "4220    40000000.00\n",
              "2265    40000000.00\n",
              "2266    40000000.00\n",
              "2320    40000000.00\n",
              "2336    40000000.00\n",
              "3132    40000000.00\n",
              "2341    40000000.00\n",
              "3668    40000000.00\n",
              "3783    40000000.00\n",
              "2859    40000000.00\n",
              "4001    40000000.00\n",
              "2818    40000000.00\n",
              "1341    40000000.00\n",
              "1415    40000000.00\n",
              "4305    40000000.00\n",
              "1276    40000000.00\n",
              "           ...     \n",
              "649        32000.00\n",
              "1972       32000.00\n",
              "1237       32000.00\n",
              "3498       31333.34\n",
              "604        30000.00\n",
              "2546       30000.00\n",
              "1753       30000.00\n",
              "4270       30000.00\n",
              "3491       30000.00\n",
              "3698       30000.00\n",
              "1749       30000.00\n",
              "4269       30000.00\n",
              "1187       30000.00\n",
              "2027       30000.00\n",
              "3763       30000.00\n",
              "1060       30000.00\n",
              "3833       30000.00\n",
              "997        30000.00\n",
              "739        30000.00\n",
              "1562       30000.00\n",
              "2076       30000.00\n",
              "2125       30000.00\n",
              "3749       30000.00\n",
              "3505       30000.00\n",
              "386        30000.00\n",
              "2974       30000.00\n",
              "2828       30000.00\n",
              "3715       30000.00\n",
              "2749       30000.00\n",
              "2583       30000.00\n",
              "Name: target, Length: 4459, dtype: float64"
            ]
          },
          "metadata": {
            "tags": []
          },
          "execution_count": 140
        }
      ]
    },
    {
      "cell_type": "markdown",
      "metadata": {
        "_uuid": "a87c23cc536415c767d7ec5a5fefac8e3ab976fb",
        "colab_type": "text",
        "id": "b84JtOmcW6Ac"
      },
      "source": [
        "### Observation:\n",
        "We can see that \"target\" variable ranges from values of 10^5 to 10^9."
      ]
    },
    {
      "cell_type": "markdown",
      "metadata": {
        "colab_type": "text",
        "id": "glsE0nEFW6Ai"
      },
      "source": [
        "### Check the count of the top 5 most common target value"
      ]
    },
    {
      "cell_type": "code",
      "metadata": {
        "_kg_hide-output": true,
        "_uuid": "7636a6c2e6a47b5009c6cb8dbccbd5295e402192",
        "colab_type": "code",
        "id": "P_RXr1s6W6At",
        "outputId": "6db36eaf-6f2a-4e62-d7ea-7df46f27c42a",
        "scrolled": false,
        "colab": {
          "base_uri": "https://localhost:8080/",
          "height": 102
        }
      },
      "source": [
        "Counter(value['target']).most_common()[:5]"
      ],
      "execution_count": 0,
      "outputs": [
        {
          "output_type": "execute_result",
          "data": {
            "text/plain": [
              "[(2000000.0, 207),\n",
              " (10000000.0, 199),\n",
              " (20000000.0, 156),\n",
              " (4000000.0, 148),\n",
              " (1000000.0, 129)]"
            ]
          },
          "metadata": {
            "tags": []
          },
          "execution_count": 141
        }
      ]
    },
    {
      "cell_type": "markdown",
      "metadata": {
        "colab_type": "text",
        "id": "-TUvSE8VW6A3"
      },
      "source": [
        "### Plot a boxplot on the log value of the target variable"
      ]
    },
    {
      "cell_type": "code",
      "metadata": {
        "_uuid": "839f862ed2eeb1f77d18bd7fc652e15c6a60c5cf",
        "colab_type": "code",
        "id": "zLzPq1zzW6A4",
        "outputId": "0cbbb67a-5044-4953-d5b7-18e0c37ee2d6",
        "scrolled": true,
        "colab": {
          "base_uri": "https://localhost:8080/",
          "height": 520
        }
      },
      "source": [
        "plt.figure(figsize=(8,8))\n",
        "sns.boxplot(np.log1p(value['target']), orient='v')"
      ],
      "execution_count": 0,
      "outputs": [
        {
          "output_type": "stream",
          "text": [
            "/usr/local/lib/python3.6/dist-packages/seaborn/categorical.py:454: FutureWarning: remove_na is deprecated and is a private function. Do not use.\n",
            "  box_data = remove_na(group_data)\n"
          ],
          "name": "stderr"
        },
        {
          "output_type": "execute_result",
          "data": {
            "text/plain": [
              "<matplotlib.axes._subplots.AxesSubplot at 0x7f87012c9898>"
            ]
          },
          "metadata": {
            "tags": []
          },
          "execution_count": 142
        },
        {
          "output_type": "display_data",
          "data": {
            "image/png": "[encoded data removed]",
            "text/plain": [
              "<Figure size 576x576 with 1 Axes>"
            ]
          },
          "metadata": {
            "tags": []
          }
        }
      ]
    },
    {
      "cell_type": "markdown",
      "metadata": {
        "_uuid": "09f42d6dbc0627f41dcea09089338f4a0d9377b3",
        "colab_type": "text",
        "id": "tPIsUtZ8W6BD"
      },
      "source": [
        "### Remove the columns with standard deviation = 0 from test and value set.\n",
        "- Standard Deviation = 0 means that **every data point in a column is equal to its mean**. Also means that all of a column's values are **identical**.\n",
        "- Such columns really do not help us in prediction. So we will drop them"
      ]
    },
    {
      "cell_type": "code",
      "metadata": {
        "colab_type": "code",
        "id": "-dMHrIGQW6BG",
        "outputId": "ff72c0df-3e8b-4cd4-cea9-47382f4d258d",
        "colab": {
          "base_uri": "https://localhost:8080/",
          "height": 71
        }
      },
      "source": [
        "drop_cols=[]\n",
        "for cols in value.columns:\n",
        "    if value[cols].std()==0:\n",
        "        drop_cols.append(cols)\n",
        "print(\"Number of constant columns to be dropped: \", len(drop_cols))\n",
        "print(drop_cols)\n",
        "value.drop(drop_cols,axis=1, inplace = True)"
      ],
      "execution_count": 9,
      "outputs": [
        {
          "output_type": "stream",
          "text": [
            "Number of constant columns to be dropped:  256\n",
            "['d5308d8bc', 'c330f1a67', 'eeac16933', '7df8788e8', '5b91580ee', '6f29fbbc7', '46dafc868', 'ae41a98b6', 'f416800e9', '6d07828ca', '7ac332a1d', '70ee7950a', '833b35a7c', '2f9969eab', '8b1372217', '68322788b', '2288ac1a6', 'dc7f76962', '467044c26', '39ebfbfd9', '9a5ff8c23', 'f6fac27c8', '664e2800e', 'ae28689a2', 'd87dcac58', '4065efbb6', 'f944d9d43', 'c2c4491d5', 'a4346e2e2', '1af366d4f', 'cfff5b7c8', 'da215e99e', '5acd26139', '9be9c6cef', '1210d0271', '21b0a54cb', 'da35e792b', '754c502dd', '0b346adbd', '0f196b049', 'b603ed95d', '2a50e001c', '1e81432e7', '10350ea43', '3c7c7e24c', '7585fce2a', '64d036163', 'f25d9935c', 'd98484125', '95c85e227', '9a5273600', '746cdb817', '6377a6293', '7d944fb0c', '87eb21c50', '5ea313a8c', '0987a65a1', '2fb7c2443', 'f5dde409b', '1ae50d4c3', '2b21cd7d8', '0db8a9272', '804d8b55b', '76f135fa6', '7d7182143', 'f88e61ae6', '378ed28e0', 'ca4ba131e', '1352ddae5', '2b601ad67', '6e42ff7c7', '22196a84c', '0e410eb3d', '992e6d1d3', '90a742107', '08b9ec4ae', 'd95203ded', '58ad51def', '9f69ae59f', '863de8a31', 'be10df47c', 'f006d9618', 'a7e39d23d', '5ed0abe85', '6c578fe94', '7fa4fcee9', '5e0571f07', 'fd5659511', 'e06b9f40f', 'c506599c8', '99de8c2dc', 'b05f4b229', '5e0834175', 'eb1cc0d9c', 'b281a62b9', '00fcf67e4', 'e37b65992', '2308e2b29', 'c342e8709', '708471ebf', 'f614aac15', '15ecf7b68', '3bfe540f1', '7a0d98f3c', 'e642315a5', 'c16d456a7', '0c9b5bcfa', 'b778ab129', '2ace87cdd', '697a566f0', '97b1f84fc', '34eff114b', '5281333d7', 'c89f3ba7e', 'cd6d3c7e6', 'fc7c8f2e8', 'abbbf9f82', '24a233e8f', '8e26b560e', 'a28ac1049', '504502ce1', 'd9a8615f3', '4efd6d283', '34cc56e83', '93e98252a', '2b6cef19e', 'c7f70a49b', '0d29ab7eb', 'e4a0d39b7', 'a4d1a8409', 'bc694fc8f', '3a36fc3a2', '4ffba44d3', '9bfdec4bc', '66a866d2f', 'f941e9df7', 'e7af4dbf3', 'dc9a54a3e', '748168a04', 'bba8ce4bb', 'ff6f62aa4', 'b06fe66ba', 'ae87ebc42', 'f26589e57', '963bb53b1', 'a531a4bf0', '9fc79985d', '9350d55c1', 'de06e884c', 'fc10bdf18', 'e0907e883', 'c586d79a1', 'e15e1513d', 'a06067897', '643e42fcb', '217cd3838', '047ebc242', '9b6ce40cf', '3b2c972b3', '17a7bf25a', 'c9028d46b', '9e0473c91', '6b041d374', '783c50218', '19122191d', 'ce573744f', '1c4ea481e', 'fbd6e0a0b', '69831c049', 'b87e3036b', '54ba515ee', 'a09ba0b15', '90f77ec55', 'fb02ef0ea', '3b0cccd29', 'fe9ed417c', '589e8bd6f', '17b5a03fd', '80e16b49a', 'a3d5c2c2a', '1bd3a4e92', '611d81daa', '3d7780b1c', '113fd0206', '5e5894826', 'cb36204f9', 'bc4e3d600', 'c66e2deb0', 'c25851298', 'a7f6de992', '3f93a3272', 'c1b95c2ec', '6bda21fee', '4a64e56e7', '943743753', '20854f8bf', 'ac2e428a9', '5ee7de0be', '316423a21', '2e52b0c6a', '8bdf6bc7e', '8f523faf2', '4758340d5', '8411096ec', '9678b95b7', 'a185e35cc', 'fa980a778', 'c8d90f7d7', '080540c81', '32591c8b4', '5779da33c', 'bb425b41e', '01599af81', '1654ab770', 'd334a588e', 'b4353599c', '51b53eaec', '2cc0fbc52', '45ffef194', 'c15ac04ee', '5b055c8ea', 'd0466eb58', 'a80633823', 'a117a5409', '7ddac276f', '8c32df8b3', 'e5649663e', '6c16efbb8', '9118fd5ca', 'ca8d565f1', '16a5bb8d2', 'fd6347461', 'f5179fb9c', '97428b646', 'f684b0a96', 'e4b2caa9f', '2c2d9f267', '96eb14eaf', 'cb2cb460c', '86f843927', 'ecd16fc60', '801c6dc8e', 'f859a25b8', 'ae846f332', '2252c7403', 'fb9e07326', 'd196ca1fd', 'a8e562e8e', 'eb6bb7ce1', '5beff147e', '52b347cdc', '4600aadcf', '6fa0b9dab', '43d70cc4d', '408021ef8', 'e29d22b59']\n"
          ],
          "name": "stdout"
        }
      ]
    },
    {
      "cell_type": "code",
      "metadata": {
        "_uuid": "a94777ebb109a615af26b54b5f06ae8eab27853c",
        "colab_type": "code",
        "id": "xBjtFPXxW6BM",
        "colab": {}
      },
      "source": [
        "from sklearn.preprocessing import StandardScaler\n",
        "sc = StandardScaler()\n",
        "sc.fit(value)\n",
        "value_sc = sc.transform(value)"
      ],
      "execution_count": 0,
      "outputs": []
    },
    {
      "cell_type": "code",
      "metadata": {
        "_kg_hide-output": true,
        "_uuid": "6a36f1bde2153342be308692f634b0f01299e004",
        "colab_type": "code",
        "id": "EHRMdk6gW6BR",
        "outputId": "79c25c8f-1c98-427d-8126-eba78036a620",
        "colab": {
          "base_uri": "https://localhost:8080/",
          "height": 187
        }
      },
      "source": [
        "print(value_sc[:5])"
      ],
      "execution_count": 0,
      "outputs": [
        {
          "output_type": "stream",
          "text": [
            "[[ 3.89330325 -0.03764565 -0.02163947 ... -0.07234203 -0.05636327\n",
            "  -0.12585201]\n",
            " [-0.64917665 -0.03764565 -0.02163947 ... -0.07234203 -0.05636327\n",
            "  -0.12585201]\n",
            " [ 0.49251616 -0.03764565 -0.02163947 ... -0.07234203 -0.05636327\n",
            "  -0.12585201]\n",
            " [-0.4791373  -0.03764565 -0.02163947 ... -0.07234203 -0.05636327\n",
            "  -0.12585201]\n",
            " [ 1.02692556 -0.03764565 -0.02163947 ... -0.07234203 -0.05636327\n",
            "  -0.12585201]]\n"
          ],
          "name": "stdout"
        }
      ]
    },
    {
      "cell_type": "markdown",
      "metadata": {
        "colab_type": "text",
        "id": "APnNY0X2W6BZ"
      },
      "source": [
        "### Preparing X and y using pandas."
      ]
    },
    {
      "cell_type": "code",
      "metadata": {
        "colab_type": "code",
        "id": "xN2wwj5QW6Bb",
        "outputId": "2e59ca4c-988b-487c-c73c-0a92aee83aab",
        "colab": {
          "base_uri": "https://localhost:8080/",
          "height": 253
        }
      },
      "source": [
        "X = value.loc[:,value.columns != 'target']\n",
        "X.head()"
      ],
      "execution_count": 11,
      "outputs": [
        {
          "output_type": "execute_result",
          "data": {
            "text/html": [
              "<div>\n",
              "<style scoped>\n",
              "    .dataframe tbody tr th:only-of-type {\n",
              "        vertical-align: middle;\n",
              "    }\n",
              "\n",
              "    .dataframe tbody tr th {\n",
              "        vertical-align: top;\n",
              "    }\n",
              "\n",
              "    .dataframe thead th {\n",
              "        text-align: right;\n",
              "    }\n",
              "</style>\n",
              "<table border=\"1\" class=\"dataframe\">\n",
              "  <thead>\n",
              "    <tr style=\"text-align: right;\">\n",
              "      <th></th>\n",
              "      <th>48df886f9</th>\n",
              "      <th>0deb4b6a8</th>\n",
              "      <th>34b15f335</th>\n",
              "      <th>a8cb14b00</th>\n",
              "      <th>2f0771a37</th>\n",
              "      <th>30347e683</th>\n",
              "      <th>d08d1fbe3</th>\n",
              "      <th>6ee66e115</th>\n",
              "      <th>20aa07010</th>\n",
              "      <th>dc5a8f1d8</th>\n",
              "      <th>11d86fa6a</th>\n",
              "      <th>77c9823f2</th>\n",
              "      <th>8d6c2a0b2</th>\n",
              "      <th>4681de4fd</th>\n",
              "      <th>adf119b9a</th>\n",
              "      <th>cff75dd09</th>\n",
              "      <th>96f83a237</th>\n",
              "      <th>b8a716ebf</th>\n",
              "      <th>6c7a4567c</th>\n",
              "      <th>4fcfd2b4d</th>\n",
              "      <th>f3b9c0b95</th>\n",
              "      <th>71cebf11c</th>\n",
              "      <th>d966ac62c</th>\n",
              "      <th>68b647452</th>\n",
              "      <th>c88d108c9</th>\n",
              "      <th>ff7b471cd</th>\n",
              "      <th>0d866c3d7</th>\n",
              "      <th>bc3f77679</th>\n",
              "      <th>bd8f989f1</th>\n",
              "      <th>0eff5bf95</th>\n",
              "      <th>22ed6dba3</th>\n",
              "      <th>92b13ebba</th>\n",
              "      <th>233c7c17c</th>\n",
              "      <th>2cb4d123e</th>\n",
              "      <th>87ffda550</th>\n",
              "      <th>822e49b95</th>\n",
              "      <th>316b978cd</th>\n",
              "      <th>d04e16aed</th>\n",
              "      <th>5d5c5ce6d</th>\n",
              "      <th>ec863cb52</th>\n",
              "      <th>...</th>\n",
              "      <th>969caa87a</th>\n",
              "      <th>00302fe51</th>\n",
              "      <th>1189ee335</th>\n",
              "      <th>ca04a07ca</th>\n",
              "      <th>f6f15ffa5</th>\n",
              "      <th>841704460</th>\n",
              "      <th>ea5ed6ff7</th>\n",
              "      <th>b1bb8eac3</th>\n",
              "      <th>8132d18b8</th>\n",
              "      <th>c24ea6548</th>\n",
              "      <th>cdfc2b069</th>\n",
              "      <th>2a879b4f7</th>\n",
              "      <th>6b119d8ce</th>\n",
              "      <th>98dea9e42</th>\n",
              "      <th>9f2471031</th>\n",
              "      <th>88458cb21</th>\n",
              "      <th>f40da20f4</th>\n",
              "      <th>7ad6b38bd</th>\n",
              "      <th>c901e7df1</th>\n",
              "      <th>8f55955dc</th>\n",
              "      <th>85dcc913d</th>\n",
              "      <th>5ca0b9b0c</th>\n",
              "      <th>eab8abf7a</th>\n",
              "      <th>8d8bffbae</th>\n",
              "      <th>2a1f6c7f9</th>\n",
              "      <th>9437d8b64</th>\n",
              "      <th>5831f4c76</th>\n",
              "      <th>2e84e09c5</th>\n",
              "      <th>d45fd5508</th>\n",
              "      <th>a165f5761</th>\n",
              "      <th>3ecc09859</th>\n",
              "      <th>9281abeea</th>\n",
              "      <th>8675bec0b</th>\n",
              "      <th>3a13ed79a</th>\n",
              "      <th>f677d4d13</th>\n",
              "      <th>71b203550</th>\n",
              "      <th>137efaa80</th>\n",
              "      <th>fb36b89d9</th>\n",
              "      <th>7e293fbaf</th>\n",
              "      <th>9fc776466</th>\n",
              "    </tr>\n",
              "  </thead>\n",
              "  <tbody>\n",
              "    <tr>\n",
              "      <th>0</th>\n",
              "      <td>0.0</td>\n",
              "      <td>0</td>\n",
              "      <td>0.0</td>\n",
              "      <td>0</td>\n",
              "      <td>0</td>\n",
              "      <td>0</td>\n",
              "      <td>0</td>\n",
              "      <td>0</td>\n",
              "      <td>0.0</td>\n",
              "      <td>0.0</td>\n",
              "      <td>0.0</td>\n",
              "      <td>0</td>\n",
              "      <td>0</td>\n",
              "      <td>0</td>\n",
              "      <td>0</td>\n",
              "      <td>0.0</td>\n",
              "      <td>0</td>\n",
              "      <td>0.0</td>\n",
              "      <td>0</td>\n",
              "      <td>0</td>\n",
              "      <td>0.0</td>\n",
              "      <td>0</td>\n",
              "      <td>0</td>\n",
              "      <td>0.0</td>\n",
              "      <td>0</td>\n",
              "      <td>0</td>\n",
              "      <td>0.0</td>\n",
              "      <td>0</td>\n",
              "      <td>0.0</td>\n",
              "      <td>0</td>\n",
              "      <td>0.0</td>\n",
              "      <td>0.0</td>\n",
              "      <td>0.0</td>\n",
              "      <td>0</td>\n",
              "      <td>1300000.0</td>\n",
              "      <td>0.0</td>\n",
              "      <td>0</td>\n",
              "      <td>0.0</td>\n",
              "      <td>0</td>\n",
              "      <td>0</td>\n",
              "      <td>...</td>\n",
              "      <td>0</td>\n",
              "      <td>0</td>\n",
              "      <td>1100000.0</td>\n",
              "      <td>0</td>\n",
              "      <td>0</td>\n",
              "      <td>0</td>\n",
              "      <td>0.0</td>\n",
              "      <td>0.0</td>\n",
              "      <td>14800000</td>\n",
              "      <td>0.0</td>\n",
              "      <td>1200000.0</td>\n",
              "      <td>0.0</td>\n",
              "      <td>0.0</td>\n",
              "      <td>0</td>\n",
              "      <td>0</td>\n",
              "      <td>0</td>\n",
              "      <td>0</td>\n",
              "      <td>0.0</td>\n",
              "      <td>4000000</td>\n",
              "      <td>0</td>\n",
              "      <td>0.0</td>\n",
              "      <td>0</td>\n",
              "      <td>0</td>\n",
              "      <td>0.0</td>\n",
              "      <td>0</td>\n",
              "      <td>0</td>\n",
              "      <td>0.0</td>\n",
              "      <td>0</td>\n",
              "      <td>0</td>\n",
              "      <td>0.0</td>\n",
              "      <td>0.0</td>\n",
              "      <td>0.0</td>\n",
              "      <td>0.0</td>\n",
              "      <td>0</td>\n",
              "      <td>0</td>\n",
              "      <td>0</td>\n",
              "      <td>0</td>\n",
              "      <td>0</td>\n",
              "      <td>0</td>\n",
              "      <td>0</td>\n",
              "    </tr>\n",
              "    <tr>\n",
              "      <th>1</th>\n",
              "      <td>0.0</td>\n",
              "      <td>0</td>\n",
              "      <td>0.0</td>\n",
              "      <td>0</td>\n",
              "      <td>0</td>\n",
              "      <td>0</td>\n",
              "      <td>0</td>\n",
              "      <td>0</td>\n",
              "      <td>2200000.0</td>\n",
              "      <td>0.0</td>\n",
              "      <td>0.0</td>\n",
              "      <td>0</td>\n",
              "      <td>0</td>\n",
              "      <td>0</td>\n",
              "      <td>0</td>\n",
              "      <td>0.0</td>\n",
              "      <td>0</td>\n",
              "      <td>0.0</td>\n",
              "      <td>0</td>\n",
              "      <td>0</td>\n",
              "      <td>0.0</td>\n",
              "      <td>0</td>\n",
              "      <td>0</td>\n",
              "      <td>0.0</td>\n",
              "      <td>0</td>\n",
              "      <td>0</td>\n",
              "      <td>0.0</td>\n",
              "      <td>0</td>\n",
              "      <td>0.0</td>\n",
              "      <td>0</td>\n",
              "      <td>0.0</td>\n",
              "      <td>0.0</td>\n",
              "      <td>0.0</td>\n",
              "      <td>0</td>\n",
              "      <td>0.0</td>\n",
              "      <td>0.0</td>\n",
              "      <td>0</td>\n",
              "      <td>0.0</td>\n",
              "      <td>0</td>\n",
              "      <td>0</td>\n",
              "      <td>...</td>\n",
              "      <td>0</td>\n",
              "      <td>0</td>\n",
              "      <td>0.0</td>\n",
              "      <td>0</td>\n",
              "      <td>0</td>\n",
              "      <td>0</td>\n",
              "      <td>0.0</td>\n",
              "      <td>0.0</td>\n",
              "      <td>0</td>\n",
              "      <td>0.0</td>\n",
              "      <td>0.0</td>\n",
              "      <td>0.0</td>\n",
              "      <td>0.0</td>\n",
              "      <td>0</td>\n",
              "      <td>0</td>\n",
              "      <td>0</td>\n",
              "      <td>0</td>\n",
              "      <td>0.0</td>\n",
              "      <td>0</td>\n",
              "      <td>0</td>\n",
              "      <td>0.0</td>\n",
              "      <td>0</td>\n",
              "      <td>0</td>\n",
              "      <td>0.0</td>\n",
              "      <td>0</td>\n",
              "      <td>0</td>\n",
              "      <td>0.0</td>\n",
              "      <td>0</td>\n",
              "      <td>0</td>\n",
              "      <td>0.0</td>\n",
              "      <td>0.0</td>\n",
              "      <td>0.0</td>\n",
              "      <td>0.0</td>\n",
              "      <td>0</td>\n",
              "      <td>0</td>\n",
              "      <td>0</td>\n",
              "      <td>0</td>\n",
              "      <td>0</td>\n",
              "      <td>0</td>\n",
              "      <td>0</td>\n",
              "    </tr>\n",
              "    <tr>\n",
              "      <th>2</th>\n",
              "      <td>0.0</td>\n",
              "      <td>0</td>\n",
              "      <td>0.0</td>\n",
              "      <td>0</td>\n",
              "      <td>0</td>\n",
              "      <td>0</td>\n",
              "      <td>0</td>\n",
              "      <td>0</td>\n",
              "      <td>0.0</td>\n",
              "      <td>0.0</td>\n",
              "      <td>0.0</td>\n",
              "      <td>0</td>\n",
              "      <td>0</td>\n",
              "      <td>0</td>\n",
              "      <td>0</td>\n",
              "      <td>0.0</td>\n",
              "      <td>0</td>\n",
              "      <td>0.0</td>\n",
              "      <td>0</td>\n",
              "      <td>0</td>\n",
              "      <td>0.0</td>\n",
              "      <td>0</td>\n",
              "      <td>0</td>\n",
              "      <td>0.0</td>\n",
              "      <td>0</td>\n",
              "      <td>0</td>\n",
              "      <td>0.0</td>\n",
              "      <td>0</td>\n",
              "      <td>0.0</td>\n",
              "      <td>0</td>\n",
              "      <td>0.0</td>\n",
              "      <td>0.0</td>\n",
              "      <td>0.0</td>\n",
              "      <td>0</td>\n",
              "      <td>0.0</td>\n",
              "      <td>0.0</td>\n",
              "      <td>0</td>\n",
              "      <td>0.0</td>\n",
              "      <td>0</td>\n",
              "      <td>0</td>\n",
              "      <td>...</td>\n",
              "      <td>0</td>\n",
              "      <td>0</td>\n",
              "      <td>0.0</td>\n",
              "      <td>0</td>\n",
              "      <td>0</td>\n",
              "      <td>0</td>\n",
              "      <td>0.0</td>\n",
              "      <td>0.0</td>\n",
              "      <td>0</td>\n",
              "      <td>0.0</td>\n",
              "      <td>0.0</td>\n",
              "      <td>0.0</td>\n",
              "      <td>0.0</td>\n",
              "      <td>0</td>\n",
              "      <td>0</td>\n",
              "      <td>0</td>\n",
              "      <td>0</td>\n",
              "      <td>0.0</td>\n",
              "      <td>0</td>\n",
              "      <td>0</td>\n",
              "      <td>0.0</td>\n",
              "      <td>0</td>\n",
              "      <td>0</td>\n",
              "      <td>0.0</td>\n",
              "      <td>0</td>\n",
              "      <td>0</td>\n",
              "      <td>0.0</td>\n",
              "      <td>0</td>\n",
              "      <td>0</td>\n",
              "      <td>0.0</td>\n",
              "      <td>0.0</td>\n",
              "      <td>0.0</td>\n",
              "      <td>0.0</td>\n",
              "      <td>0</td>\n",
              "      <td>0</td>\n",
              "      <td>0</td>\n",
              "      <td>0</td>\n",
              "      <td>0</td>\n",
              "      <td>0</td>\n",
              "      <td>0</td>\n",
              "    </tr>\n",
              "    <tr>\n",
              "      <th>3</th>\n",
              "      <td>0.0</td>\n",
              "      <td>0</td>\n",
              "      <td>0.0</td>\n",
              "      <td>0</td>\n",
              "      <td>0</td>\n",
              "      <td>0</td>\n",
              "      <td>0</td>\n",
              "      <td>0</td>\n",
              "      <td>0.0</td>\n",
              "      <td>0.0</td>\n",
              "      <td>0.0</td>\n",
              "      <td>0</td>\n",
              "      <td>0</td>\n",
              "      <td>0</td>\n",
              "      <td>0</td>\n",
              "      <td>0.0</td>\n",
              "      <td>0</td>\n",
              "      <td>0.0</td>\n",
              "      <td>0</td>\n",
              "      <td>0</td>\n",
              "      <td>0.0</td>\n",
              "      <td>0</td>\n",
              "      <td>0</td>\n",
              "      <td>0.0</td>\n",
              "      <td>0</td>\n",
              "      <td>0</td>\n",
              "      <td>0.0</td>\n",
              "      <td>0</td>\n",
              "      <td>0.0</td>\n",
              "      <td>0</td>\n",
              "      <td>0.0</td>\n",
              "      <td>0.0</td>\n",
              "      <td>0.0</td>\n",
              "      <td>0</td>\n",
              "      <td>0.0</td>\n",
              "      <td>0.0</td>\n",
              "      <td>0</td>\n",
              "      <td>0.0</td>\n",
              "      <td>0</td>\n",
              "      <td>0</td>\n",
              "      <td>...</td>\n",
              "      <td>0</td>\n",
              "      <td>0</td>\n",
              "      <td>0.0</td>\n",
              "      <td>0</td>\n",
              "      <td>0</td>\n",
              "      <td>0</td>\n",
              "      <td>0.0</td>\n",
              "      <td>0.0</td>\n",
              "      <td>0</td>\n",
              "      <td>0.0</td>\n",
              "      <td>0.0</td>\n",
              "      <td>0.0</td>\n",
              "      <td>0.0</td>\n",
              "      <td>0</td>\n",
              "      <td>0</td>\n",
              "      <td>0</td>\n",
              "      <td>0</td>\n",
              "      <td>0.0</td>\n",
              "      <td>0</td>\n",
              "      <td>0</td>\n",
              "      <td>0.0</td>\n",
              "      <td>0</td>\n",
              "      <td>0</td>\n",
              "      <td>0.0</td>\n",
              "      <td>0</td>\n",
              "      <td>0</td>\n",
              "      <td>0.0</td>\n",
              "      <td>0</td>\n",
              "      <td>0</td>\n",
              "      <td>0.0</td>\n",
              "      <td>0.0</td>\n",
              "      <td>0.0</td>\n",
              "      <td>0.0</td>\n",
              "      <td>0</td>\n",
              "      <td>0</td>\n",
              "      <td>0</td>\n",
              "      <td>0</td>\n",
              "      <td>0</td>\n",
              "      <td>0</td>\n",
              "      <td>0</td>\n",
              "    </tr>\n",
              "    <tr>\n",
              "      <th>4</th>\n",
              "      <td>0.0</td>\n",
              "      <td>0</td>\n",
              "      <td>0.0</td>\n",
              "      <td>0</td>\n",
              "      <td>0</td>\n",
              "      <td>0</td>\n",
              "      <td>0</td>\n",
              "      <td>0</td>\n",
              "      <td>2000000.0</td>\n",
              "      <td>0.0</td>\n",
              "      <td>0.0</td>\n",
              "      <td>0</td>\n",
              "      <td>0</td>\n",
              "      <td>0</td>\n",
              "      <td>0</td>\n",
              "      <td>0.0</td>\n",
              "      <td>0</td>\n",
              "      <td>0.0</td>\n",
              "      <td>0</td>\n",
              "      <td>0</td>\n",
              "      <td>0.0</td>\n",
              "      <td>0</td>\n",
              "      <td>0</td>\n",
              "      <td>0.0</td>\n",
              "      <td>0</td>\n",
              "      <td>0</td>\n",
              "      <td>0.0</td>\n",
              "      <td>0</td>\n",
              "      <td>0.0</td>\n",
              "      <td>0</td>\n",
              "      <td>0.0</td>\n",
              "      <td>0.0</td>\n",
              "      <td>0.0</td>\n",
              "      <td>0</td>\n",
              "      <td>0.0</td>\n",
              "      <td>0.0</td>\n",
              "      <td>0</td>\n",
              "      <td>0.0</td>\n",
              "      <td>0</td>\n",
              "      <td>0</td>\n",
              "      <td>...</td>\n",
              "      <td>0</td>\n",
              "      <td>0</td>\n",
              "      <td>0.0</td>\n",
              "      <td>0</td>\n",
              "      <td>0</td>\n",
              "      <td>0</td>\n",
              "      <td>0.0</td>\n",
              "      <td>0.0</td>\n",
              "      <td>0</td>\n",
              "      <td>0.0</td>\n",
              "      <td>0.0</td>\n",
              "      <td>0.0</td>\n",
              "      <td>0.0</td>\n",
              "      <td>0</td>\n",
              "      <td>0</td>\n",
              "      <td>0</td>\n",
              "      <td>0</td>\n",
              "      <td>0.0</td>\n",
              "      <td>0</td>\n",
              "      <td>0</td>\n",
              "      <td>0.0</td>\n",
              "      <td>0</td>\n",
              "      <td>0</td>\n",
              "      <td>0.0</td>\n",
              "      <td>0</td>\n",
              "      <td>0</td>\n",
              "      <td>0.0</td>\n",
              "      <td>0</td>\n",
              "      <td>0</td>\n",
              "      <td>0.0</td>\n",
              "      <td>0.0</td>\n",
              "      <td>0.0</td>\n",
              "      <td>0.0</td>\n",
              "      <td>0</td>\n",
              "      <td>0</td>\n",
              "      <td>0</td>\n",
              "      <td>0</td>\n",
              "      <td>0</td>\n",
              "      <td>0</td>\n",
              "      <td>0</td>\n",
              "    </tr>\n",
              "  </tbody>\n",
              "</table>\n",
              "<p>5 rows × 4735 columns</p>\n",
              "</div>"
            ],
            "text/plain": [
              "   48df886f9  0deb4b6a8  34b15f335  ...  fb36b89d9  7e293fbaf  9fc776466\n",
              "0        0.0          0        0.0  ...          0          0          0\n",
              "1        0.0          0        0.0  ...          0          0          0\n",
              "2        0.0          0        0.0  ...          0          0          0\n",
              "3        0.0          0        0.0  ...          0          0          0\n",
              "4        0.0          0        0.0  ...          0          0          0\n",
              "\n",
              "[5 rows x 4735 columns]"
            ]
          },
          "metadata": {
            "tags": []
          },
          "execution_count": 11
        }
      ]
    },
    {
      "cell_type": "code",
      "metadata": {
        "colab_type": "code",
        "id": "xS0aevupW6Bj",
        "outputId": "6f309ee5-4359-41fc-efaa-857757bd3d5a",
        "colab": {
          "base_uri": "https://localhost:8080/",
          "height": 204
        }
      },
      "source": [
        "y = np.log1p(value.loc[:,value.columns == 'target'])\n",
        "y.head()"
      ],
      "execution_count": 12,
      "outputs": [
        {
          "output_type": "execute_result",
          "data": {
            "text/html": [
              "<div>\n",
              "<style scoped>\n",
              "    .dataframe tbody tr th:only-of-type {\n",
              "        vertical-align: middle;\n",
              "    }\n",
              "\n",
              "    .dataframe tbody tr th {\n",
              "        vertical-align: top;\n",
              "    }\n",
              "\n",
              "    .dataframe thead th {\n",
              "        text-align: right;\n",
              "    }\n",
              "</style>\n",
              "<table border=\"1\" class=\"dataframe\">\n",
              "  <thead>\n",
              "    <tr style=\"text-align: right;\">\n",
              "      <th></th>\n",
              "      <th>target</th>\n",
              "    </tr>\n",
              "  </thead>\n",
              "  <tbody>\n",
              "    <tr>\n",
              "      <th>0</th>\n",
              "      <td>17.453097</td>\n",
              "    </tr>\n",
              "    <tr>\n",
              "      <th>1</th>\n",
              "      <td>13.304687</td>\n",
              "    </tr>\n",
              "    <tr>\n",
              "      <th>2</th>\n",
              "      <td>16.118096</td>\n",
              "    </tr>\n",
              "    <tr>\n",
              "      <th>3</th>\n",
              "      <td>14.508658</td>\n",
              "    </tr>\n",
              "    <tr>\n",
              "      <th>4</th>\n",
              "      <td>16.482739</td>\n",
              "    </tr>\n",
              "  </tbody>\n",
              "</table>\n",
              "</div>"
            ],
            "text/plain": [
              "      target\n",
              "0  17.453097\n",
              "1  13.304687\n",
              "2  16.118096\n",
              "3  14.508658\n",
              "4  16.482739"
            ]
          },
          "metadata": {
            "tags": []
          },
          "execution_count": 12
        }
      ]
    },
    {
      "cell_type": "markdown",
      "metadata": {
        "colab_type": "text",
        "id": "grgbQbCPW6Bn"
      },
      "source": [
        "### Splitting X and y into train and test dataset."
      ]
    },
    {
      "cell_type": "code",
      "metadata": {
        "colab_type": "code",
        "id": "nauU92N3W6Bo",
        "colab": {}
      },
      "source": [
        "from sklearn.model_selection import train_test_split\n",
        "X_train, X_test, y_train, y_test = train_test_split(X, y, test_size=0.20, random_state=1)"
      ],
      "execution_count": 0,
      "outputs": []
    },
    {
      "cell_type": "code",
      "metadata": {
        "colab_type": "code",
        "id": "XCDwuImMW6Bu",
        "outputId": "fd40e4b4-eeef-4905-adac-dcd6269cd10d",
        "colab": {
          "base_uri": "https://localhost:8080/",
          "height": 51
        }
      },
      "source": [
        "print(X_train.shape)\n",
        "print(y_train.shape)"
      ],
      "execution_count": 0,
      "outputs": [
        {
          "output_type": "stream",
          "text": [
            "(3567, 4735)\n",
            "(3567, 1)\n"
          ],
          "name": "stdout"
        }
      ]
    },
    {
      "cell_type": "code",
      "metadata": {
        "colab_type": "code",
        "id": "IofynO3zW6B1",
        "outputId": "f3d33c05-d3ae-4ff9-f143-fe61713d550e",
        "colab": {
          "base_uri": "https://localhost:8080/",
          "height": 51
        }
      },
      "source": [
        "print(X_test.shape)\n",
        "print(y_test.shape)"
      ],
      "execution_count": 14,
      "outputs": [
        {
          "output_type": "stream",
          "text": [
            "(892, 4735)\n",
            "(892, 1)\n"
          ],
          "name": "stdout"
        }
      ]
    },
    {
      "cell_type": "markdown",
      "metadata": {
        "colab_type": "text",
        "id": "XymV_Cf1W6B_"
      },
      "source": [
        "### Fit the model and calculate the computing time."
      ]
    },
    {
      "cell_type": "code",
      "metadata": {
        "colab_type": "code",
        "id": "Wm5kfNzIW6CB",
        "outputId": "d24ac324-ebec-41cb-eac0-ddefb9a3060c",
        "colab": {
          "base_uri": "https://localhost:8080/",
          "height": 88
        }
      },
      "source": [
        "import time\n",
        "from sklearn.ensemble import RandomForestRegressor\n",
        "rfc = RandomForestRegressor(random_state =0)\n",
        "start_time = time.time()\n",
        "rfc.fit(X_train,y_train)\n",
        "end_time = time.time()\n",
        "time1 = end_time-start_time\n",
        "print(time1)"
      ],
      "execution_count": 15,
      "outputs": [
        {
          "output_type": "stream",
          "text": [
            "/usr/local/lib/python3.6/dist-packages/ipykernel_launcher.py:5: DataConversionWarning: A column-vector y was passed when a 1d array was expected. Please change the shape of y to (n_samples,), for example using ravel().\n",
            "  \"\"\"\n"
          ],
          "name": "stderr"
        },
        {
          "output_type": "stream",
          "text": [
            "255.12798047065735\n"
          ],
          "name": "stdout"
        }
      ]
    },
    {
      "cell_type": "markdown",
      "metadata": {
        "colab_type": "text",
        "id": "KWu4HkZgW6CG"
      },
      "source": [
        "### Use the model for predictions"
      ]
    },
    {
      "cell_type": "code",
      "metadata": {
        "colab_type": "code",
        "id": "tosPUefEW6CL",
        "colab": {}
      },
      "source": [
        "predictions = rfc.predict(X_test)"
      ],
      "execution_count": 0,
      "outputs": []
    },
    {
      "cell_type": "markdown",
      "metadata": {
        "colab_type": "text",
        "id": "Pr8_EYGCW6CQ"
      },
      "source": [
        "### Use RMSE for model evaluation"
      ]
    },
    {
      "cell_type": "code",
      "metadata": {
        "colab_type": "code",
        "id": "rsHq0BTUW6CR",
        "outputId": "2c8b9b14-6af7-4386-b4b5-6a3945a69d26",
        "colab": {
          "base_uri": "https://localhost:8080/",
          "height": 34
        }
      },
      "source": [
        "from sklearn import metrics\n",
        "RMSE_test = np.sqrt(metrics.mean_squared_error(y_test, predictions))\n",
        "print('RMSE for test set is {}'.format(RMSE_test))"
      ],
      "execution_count": 17,
      "outputs": [
        {
          "output_type": "stream",
          "text": [
            "RMSE for test set is 1.3959549105643074\n"
          ],
          "name": "stdout"
        }
      ]
    },
    {
      "cell_type": "markdown",
      "metadata": {
        "_uuid": "d6b65f48bf79f5ddc253a2c0781e3a5c0df33258",
        "colab_type": "text",
        "id": "Q0gkEr0bW6Ce"
      },
      "source": [
        "## DIMENSIONALITY REDUCTION\n",
        "- One of the major problems with this dataset is that it has too many predictors (almost 4900+). To go through each of these predictors and see which ones are significant for the model is going to be a tedious task. Instead, we can use one of the all-time favourite dimensionality reduction technique - Principle Component Analysis.\n",
        "- Before we can use PCA, we need to **STANDARDISE** the data (Standardisation and Normalization are used inter-dependently. Standardisation is moulding the data to between -1 and +1 data points. Normalisation is normalising the data so that the data points lie along the mean.)"
      ]
    },
    {
      "cell_type": "markdown",
      "metadata": {
        "_uuid": "c15d9cee1ce614cebfbcbfc4b0d452d563c63bb7",
        "colab_type": "text",
        "id": "4dVy75J1W6Cf"
      },
      "source": [
        "Now that the data is scaled, we shall use __PCA__"
      ]
    },
    {
      "cell_type": "code",
      "metadata": {
        "_uuid": "2080f592383108156d1915749ca53748b4e4719f",
        "colab_type": "code",
        "id": "PjXlBtaRW6Cg",
        "colab": {}
      },
      "source": [
        "from sklearn.decomposition import PCA\n",
        "pca = PCA(0.95).fit(X)"
      ],
      "execution_count": 0,
      "outputs": []
    },
    {
      "cell_type": "markdown",
      "metadata": {
        "colab_type": "text",
        "id": "6dzKQmKsW6Ci"
      },
      "source": [
        "### Variance Graph"
      ]
    },
    {
      "cell_type": "code",
      "metadata": {
        "colab_type": "code",
        "id": "ACmLeTDYW6Ck",
        "outputId": "25e125a6-4af7-4eaf-8f4d-dac122f203cc",
        "colab": {
          "base_uri": "https://localhost:8080/",
          "height": 312
        }
      },
      "source": [
        "var=np.cumsum(np.round(pca.explained_variance_ratio_, decimals=3)*100)\n",
        "plt.ylabel('% Variance Explained')\n",
        "plt.xlabel('Number of Features')\n",
        "plt.title('PCA Analysis')\n",
        "plt.ylim(30,100.5)\n",
        "plt.style.context('seaborn-whitegrid')\n",
        "plt.plot(var)"
      ],
      "execution_count": 19,
      "outputs": [
        {
          "output_type": "execute_result",
          "data": {
            "text/plain": [
              "[<matplotlib.lines.Line2D at 0x7f14d270f470>]"
            ]
          },
          "metadata": {
            "tags": []
          },
          "execution_count": 19
        },
        {
          "output_type": "display_data",
          "data": {
            "image/png": "[encoded data removed]",
            "text/plain": [
              "<Figure size 432x288 with 1 Axes>"
            ]
          },
          "metadata": {
            "tags": [],
            "needs_background": "light"
          }
        }
      ]
    },
    {
      "cell_type": "code",
      "metadata": {
        "_uuid": "bdd4f64a191378c2f8b4c8b25060c053f9ee373e",
        "colab_type": "code",
        "id": "tLMY2zGIW6Cx",
        "outputId": "85b72990-7a0d-46e7-981e-eb48972921a7",
        "colab": {
          "base_uri": "https://localhost:8080/",
          "height": 34
        }
      },
      "source": [
        "print('%d components explain 95%% of the variation in data' % pca.n_components_)"
      ],
      "execution_count": 20,
      "outputs": [
        {
          "output_type": "stream",
          "text": [
            "602 components explain 95% of the variation in data\n"
          ],
          "name": "stdout"
        }
      ]
    },
    {
      "cell_type": "markdown",
      "metadata": {
        "_uuid": "f81d849eb3cf72ddf0a853ce4e320082d36dc498",
        "colab_type": "text",
        "id": "uDRuuOJHW6C2"
      },
      "source": [
        "We can see that the first __602 Principal Components attribute for about 95% variation__ in the data. We shall use these 602 for our prediction "
      ]
    },
    {
      "cell_type": "code",
      "metadata": {
        "colab_type": "code",
        "id": "Om4i6Lq1W6C3",
        "outputId": "2a5f0e0d-dfea-4a21-badc-39c9bdda048a",
        "colab": {
          "base_uri": "https://localhost:8080/",
          "height": 34
        }
      },
      "source": [
        "pca = PCA(n_components=602, random_state = 0)\n",
        "pca.fit(X)\n",
        "X = pca.transform(X)\n",
        "print(X.shape)"
      ],
      "execution_count": 21,
      "outputs": [
        {
          "output_type": "stream",
          "text": [
            "(4459, 602)\n"
          ],
          "name": "stdout"
        }
      ]
    },
    {
      "cell_type": "markdown",
      "metadata": {
        "colab_type": "text",
        "id": "Hee0tlgBW6C-"
      },
      "source": [
        "### Split the random variable in train and test data"
      ]
    },
    {
      "cell_type": "code",
      "metadata": {
        "colab_type": "code",
        "id": "nqQsncv_W6DA",
        "colab": {}
      },
      "source": [
        "from sklearn.model_selection import train_test_split\n",
        "X_train, X_test, y_train, y_test = train_test_split(X, y, test_size=0.25, random_state=1)"
      ],
      "execution_count": 0,
      "outputs": []
    },
    {
      "cell_type": "markdown",
      "metadata": {
        "colab_type": "text",
        "id": "NLPyKomqW6DF"
      },
      "source": [
        "### Check the shape of X_train and X_test."
      ]
    },
    {
      "cell_type": "code",
      "metadata": {
        "colab_type": "code",
        "id": "rw2cRBLCW6DG",
        "outputId": "dfc0d391-eab8-4778-966e-42c853e1e790",
        "colab": {
          "base_uri": "https://localhost:8080/",
          "height": 51
        }
      },
      "source": [
        "print(X_train.shape)\n",
        "print(X_test.shape)"
      ],
      "execution_count": 23,
      "outputs": [
        {
          "output_type": "stream",
          "text": [
            "(3344, 602)\n",
            "(1115, 602)\n"
          ],
          "name": "stdout"
        }
      ]
    },
    {
      "cell_type": "markdown",
      "metadata": {
        "_uuid": "c972ee5461a5fbf00398fca8c6f2188f85e507b2",
        "colab_type": "text",
        "id": "mwIjghyuW6DL"
      },
      "source": [
        "## MODELLING AND PREDICTION\n",
        "We shall use the following regressor for our prediction \n",
        "- Random Forest"
      ]
    },
    {
      "cell_type": "markdown",
      "metadata": {
        "colab_type": "text",
        "id": "aYZcBhQdW6DN"
      },
      "source": [
        "### Fit the model and calculate the computing time"
      ]
    },
    {
      "cell_type": "code",
      "metadata": {
        "_uuid": "d4b44d04443387bd2cb78884ed726f3c21f18106",
        "colab_type": "code",
        "id": "ZUkb_1dDW6DP",
        "outputId": "f5d998d9-1969-4cef-dd2f-e2be281b6ee5",
        "colab": {
          "base_uri": "https://localhost:8080/",
          "height": 88
        }
      },
      "source": [
        "from sklearn.ensemble import RandomForestRegressor\n",
        "rf = RandomForestRegressor()\n",
        "start_time = time.time()\n",
        "rf.fit(X_train, y_train)\n",
        "end_time = time.time()\n",
        "time2 = end_time-start_time\n",
        "print(time2)"
      ],
      "execution_count": 24,
      "outputs": [
        {
          "output_type": "stream",
          "text": [
            "/usr/local/lib/python3.6/dist-packages/ipykernel_launcher.py:4: DataConversionWarning: A column-vector y was passed when a 1d array was expected. Please change the shape of y to (n_samples,), for example using ravel().\n",
            "  after removing the cwd from sys.path.\n"
          ],
          "name": "stderr"
        },
        {
          "output_type": "stream",
          "text": [
            "140.46680855751038\n"
          ],
          "name": "stdout"
        }
      ]
    },
    {
      "cell_type": "markdown",
      "metadata": {
        "colab_type": "text",
        "id": "KKifhLyNW6DV"
      },
      "source": [
        "### Use the model for predictions"
      ]
    },
    {
      "cell_type": "code",
      "metadata": {
        "colab_type": "code",
        "id": "bO0xIkILW6DX",
        "colab": {}
      },
      "source": [
        "predictions_pca = rf.predict(X_test)"
      ],
      "execution_count": 0,
      "outputs": []
    },
    {
      "cell_type": "markdown",
      "metadata": {
        "colab_type": "text",
        "id": "70PyjPxIW6Da"
      },
      "source": [
        "### Using 'exponents' to get back to the original value of target variable."
      ]
    },
    {
      "cell_type": "code",
      "metadata": {
        "_kg_hide-output": true,
        "_uuid": "5192ed9713a6aacdd8c527616ebd209a07cdc9a1",
        "colab_type": "code",
        "id": "8MLXFDLjW6Dc",
        "colab": {}
      },
      "source": [
        "predictions_pca_exp = np.expm1(predictions_pca)"
      ],
      "execution_count": 0,
      "outputs": []
    },
    {
      "cell_type": "code",
      "metadata": {
        "id": "9qOAbXwLxbbn",
        "colab_type": "code",
        "colab": {}
      },
      "source": [
        "y_test = np.expm1(y_test)"
      ],
      "execution_count": 0,
      "outputs": []
    },
    {
      "cell_type": "code",
      "metadata": {
        "_uuid": "83fb1d5193f6c11e5bf73b529b04669f90f4a6d5",
        "colab_type": "code",
        "id": "wmIdXWKiW6Df",
        "outputId": "c0b4bd90-6837-4263-d429-7148aad6f97c",
        "colab": {
          "base_uri": "https://localhost:8080/",
          "height": 34
        }
      },
      "source": [
        "print(len(predictions_pca_exp))"
      ],
      "execution_count": 28,
      "outputs": [
        {
          "output_type": "stream",
          "text": [
            "1115\n"
          ],
          "name": "stdout"
        }
      ]
    },
    {
      "cell_type": "code",
      "metadata": {
        "colab_type": "code",
        "id": "--dQxkFvW6Dl",
        "outputId": "8a94d543-83bf-441f-a805-5db17687bd13",
        "colab": {
          "base_uri": "https://localhost:8080/",
          "height": 102
        }
      },
      "source": [
        "print(predictions_pca_exp[:20])"
      ],
      "execution_count": 29,
      "outputs": [
        {
          "output_type": "stream",
          "text": [
            "[2668906.9998278  2130009.42996404 1755703.40148343 2570065.89975349\n",
            " 1227181.52371291 1251356.8219606  1729915.5406775  4769986.67686988\n",
            " 1091668.86601476 3228943.33659165 2450703.04522203 2782016.04431425\n",
            " 2775210.15674216 2119475.18370234 2731906.72506245 2568950.73306219\n",
            " 2252811.14429424 2113446.30577884 2318556.41989362 3609978.00391977]\n"
          ],
          "name": "stdout"
        }
      ]
    },
    {
      "cell_type": "markdown",
      "metadata": {
        "colab_type": "text",
        "id": "TqbwFEPXW6Dz"
      },
      "source": [
        "<a id=section7></a>"
      ]
    },
    {
      "cell_type": "markdown",
      "metadata": {
        "colab_type": "text",
        "id": "4qAUMu4uW6D0"
      },
      "source": [
        "## Model evaluation using metrics"
      ]
    },
    {
      "cell_type": "markdown",
      "metadata": {
        "colab_type": "text",
        "id": "w9sImGqgW6D1"
      },
      "source": [
        "<a id=section701></a>"
      ]
    },
    {
      "cell_type": "markdown",
      "metadata": {
        "colab_type": "text",
        "id": "SmW2XY0yW6D4"
      },
      "source": [
        "### Mean Absolute Error"
      ]
    },
    {
      "cell_type": "code",
      "metadata": {
        "colab_type": "code",
        "id": "X0oDBiNhW6EA",
        "outputId": "6a5ef249-44d2-4992-cb59-93264e1bb2c6",
        "colab": {
          "base_uri": "https://localhost:8080/",
          "height": 34
        }
      },
      "source": [
        "MAE_test = metrics.mean_absolute_error(y_test, predictions_pca_exp)\n",
        "print('MAE for test data set is {}'.format(MAE_test))"
      ],
      "execution_count": 30,
      "outputs": [
        {
          "output_type": "stream",
          "text": [
            "MAE for test data set is 4490288.38286736\n"
          ],
          "name": "stdout"
        }
      ]
    },
    {
      "cell_type": "markdown",
      "metadata": {
        "colab_type": "text",
        "id": "nYpthLW-W6EH"
      },
      "source": [
        "<a id=section702></a>"
      ]
    },
    {
      "cell_type": "markdown",
      "metadata": {
        "colab_type": "text",
        "id": "2p0mjABdW6EJ"
      },
      "source": [
        "### Mean Squared Error"
      ]
    },
    {
      "cell_type": "code",
      "metadata": {
        "colab_type": "code",
        "id": "0SbIYx7zW6EK",
        "outputId": "2a9c10f9-4fd0-4aac-d04b-fa271941fb90",
        "colab": {
          "base_uri": "https://localhost:8080/",
          "height": 34
        }
      },
      "source": [
        "MSE_test = metrics.mean_squared_error(y_test, predictions_pca_exp)\n",
        "print('MSE for test set is {}'.format(MSE_test))"
      ],
      "execution_count": 31,
      "outputs": [
        {
          "output_type": "stream",
          "text": [
            "MSE for test set is 62159527221622.52\n"
          ],
          "name": "stdout"
        }
      ]
    },
    {
      "cell_type": "markdown",
      "metadata": {
        "colab_type": "text",
        "id": "yBxZ9u3CW6EO"
      },
      "source": [
        "<a id=section703></a>"
      ]
    },
    {
      "cell_type": "markdown",
      "metadata": {
        "colab_type": "text",
        "id": "cI-GUzDDW6EP"
      },
      "source": [
        "### Root mean squared error"
      ]
    },
    {
      "cell_type": "code",
      "metadata": {
        "colab_type": "code",
        "id": "DEwzZBpBW6EQ",
        "outputId": "13bb8867-43b0-43bd-c0b9-e1e8d70e7cd2",
        "colab": {
          "base_uri": "https://localhost:8080/",
          "height": 34
        }
      },
      "source": [
        "RMSE_test = np.sqrt(metrics.mean_squared_error(y_test, predictions_pca_exp))\n",
        "print('RMSE for test set is {}'.format(RMSE_test))"
      ],
      "execution_count": 32,
      "outputs": [
        {
          "output_type": "stream",
          "text": [
            "RMSE for test set is 7884131.354919356\n"
          ],
          "name": "stdout"
        }
      ]
    },
    {
      "cell_type": "markdown",
      "metadata": {
        "colab_type": "text",
        "id": "NeQUd3CWW6EV"
      },
      "source": [
        "<a id=section8></a>"
      ]
    },
    {
      "cell_type": "markdown",
      "metadata": {
        "colab_type": "text",
        "id": "isCzZxrlW6EW"
      },
      "source": [
        "### Computing time difference between the two models"
      ]
    },
    {
      "cell_type": "code",
      "metadata": {
        "colab_type": "code",
        "id": "JpO0ct4NW6EX",
        "outputId": "8427b2be-b811-424a-fd88-f79148f9fd65",
        "colab": {
          "base_uri": "https://localhost:8080/",
          "height": 34
        }
      },
      "source": [
        "difference = time2/time1\n",
        "print(difference)"
      ],
      "execution_count": 33,
      "outputs": [
        {
          "output_type": "stream",
          "text": [
            "0.550573905294036\n"
          ],
          "name": "stdout"
        }
      ]
    },
    {
      "cell_type": "markdown",
      "metadata": {
        "colab_type": "text",
        "id": "e3EyzKPuW6Ec"
      },
      "source": [
        "### Observation:\n",
        "Model 2 is roughly 5% more faster than Model 1. As we saw the PCA reduces time taken by regressor to fit."
      ]
    }
  ]
}